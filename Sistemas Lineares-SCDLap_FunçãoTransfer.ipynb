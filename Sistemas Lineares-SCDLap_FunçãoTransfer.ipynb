{
 "cells": [
  {
   "cell_type": "markdown",
   "id": "c76d8152",
   "metadata": {},
   "source": [
    "# Análise de Sistemas em Tempo Contínuo com a Transformada de Laplace \n",
    "\n",
    "## Função de Transferência e Teorema da Convolução\n",
    "\n",
    "Anteriormente vimos que para um sistema de estado nulo a equação entrada-saída pode ser escrita como\n",
    "\n",
    "$$Q(s)Y(s)=P(s)X(s)$$\n",
    "\n",
    "Onde $X(s)=\\mathcal{L}(x(t))$ e $Y(s)=\\mathcal{L}(y(t))$.  A função racional\n",
    "\n",
    "$$H(s)=\\frac{Y(s)}{X(s)}$$\n",
    "\n",
    "é a função de transferência do sistema, e além disso, $H(s)=\\mathcal{L}(h(t))$. Considere um sistema $S$, com entrada $x(t)$ e saída $y(t)$, isto é:\n",
    "\n",
    "\\begin{equation*}\n",
    "x(t)\\rightarrow\\,S\\,\\rightarrow y(t)\n",
    "\\label{}\\tag{1}\n",
    "\\end{equation*}\n",
    "\n",
    "e também sabemos que\n",
    "\n",
    "\\begin{equation*}\n",
    "y(t)=x(t)*h(t).\n",
    "\\label{}\\tag{2}\n",
    "\\end{equation*}\n",
    "\n",
    "Da definição da função de transferência, podemos escrever que\n",
    "\n",
    "\\begin{equation*}\n",
    "Y(s)=H(s)X(s).\n",
    "\\label{}\\tag{3}\n",
    "\\end{equation*}\n",
    "\n",
    "Se $x(t)=\\delta(t)$, então $X(s)=1$ e $Y(s)=H(s)$, de onde fica mostrado que, com efeito, a função de transferência é a transformada de Laplace da resposta ao impulso. Comparando agora as equações (2) e (3), podemos concluir que \n",
    "\n",
    "\\begin{equation*}\n",
    "\\mathcal{L}(x(t)*h(t))=H(s)X(s)\n",
    "\\label{}\\tag{4}\n",
    "\\end{equation*}\n",
    "\n",
    "Este resultado, que pode ser aplicado a qualquer par de funções com Transformada de laplace, é o *Teorema da Convolução*.\n"
   ]
  },
  {
   "cell_type": "markdown",
   "id": "98af8edb",
   "metadata": {},
   "source": [
    "## Teoremas dos Valores Inicial e Final\n",
    "\n",
    "### Teorema do Valor Inicial\n",
    "\n",
    "Seja um sinal $x(t)$. A transformada de Laplace de sua derivada é\n",
    "\n",
    "$$\\mathcal{L}(x'(t)u(t))=sX(s)-x(0^-)=\\int_{0^-}^{\\infty} x'(t)e^{-st}\\,dt=\\int_{0^-}^{0^+}x'(t)e^{-st}\\,dt=\\int_{0^+}^{\\infty} x'(t)e^{-st}\\,dt,$$\n",
    "\n",
    "$$sX(s)-x(0^-)=x(t)\\big\\|_{0^-}^{0^+}+\\int_{0^+}^{\\infty} x'(t)e^{-st}\\,dt=x(0^+)-x(0^-)+\\int_{0^+}^{\\infty} x'(t)e^{-st}\\,dt\\quad\\mbox{e}$$\n",
    "\n",
    "$$sX(s)=x(0^+)+\\int_{0^+}^{\\infty} x'(t)e^{-st}\\,dt.$$\n",
    "\n",
    "Tomando o limite $s\\rightarrow \\infty$ na equação acima (desde que o limite exista), temos\n",
    "\n",
    "$$\\lim_{s\\to\\infty} sX(s)=\\lim_{s\\to\\infty}\\int_{0^+}^{\\infty} x'(t)e^{-st}\\,dt+x(0^+).$$\n",
    "\n",
    "Como o limite da integral na equação acima é nulo, o Teorema do Valor Inicial afirma que \n",
    "\n",
    "$$x(0^+)=\\lim_{s\\to\\infty}sX(s)$$\n",
    "\n",
    "**Observação Importante** Se $X(s)$ não é uma função racional estritamente própria $(N>M)$, então o limite de $sX(s)$ não existe e o teorema não pode ser aplicado. \n",
    "\n",
    "### Teorema do Valor Final\n",
    "\n",
    "Tomamos agora o limite quando $s\\rightarrow 0$ na transformada de Laplace da derivada de $x(t)$, isto é\n",
    "\n",
    "$$\\lim_{s\\to 0} sX(s)=\\lim_{s\\to 0}\\int_{0^-}^{\\infty} x'(t)e^{-st}\\,dt+x(0^-)=x(t)\\bigg\\|_{0^-}^{\\infty}+x(0^-).$$\n",
    "\n",
    "Portanto, o teorema do valor final afirma que\n",
    "\n",
    "$$x(\\infty)=\\lim_{s\\to 0}sX(s).$$"
   ]
  },
  {
   "cell_type": "markdown",
   "id": "cc4bf6a1",
   "metadata": {},
   "source": [
    "**Exemplo** Análise de Laplace de um filtro passa-baixas $RC$\n",
    "\n",
    "A *netlist* abaixo descreve um filtro passa-baixas $RC$ de primeira ordem."
   ]
  },
  {
   "cell_type": "code",
   "execution_count": 1,
   "id": "25e35f3a",
   "metadata": {},
   "outputs": [
    {
     "data": {
      "image/png": "[encoded data removed]"
     },
     "metadata": {
      "image/png": {
       "height": 418,
       "width": 692
      }
     },
     "output_type": "display_data"
    }
   ],
   "source": [
    "from lcapy import Circuit,t,voltage,sin,u,s\n",
    "\n",
    "a = Circuit(\"\"\"\n",
    "P1 1 0; down=1.5, v_=v_i(t)\n",
    "R 1 2 2; right=1.5\n",
    "C 2 0_2 {1/4}; down\n",
    "W 0 0_2; right\n",
    "W 2 3; right\n",
    "W 0_2 0_3; right\n",
    "P2 3 0_3; down, v^=v_o(t)\"\"\")\n",
    "\n",
    "a.draw()"
   ]
  },
  {
   "cell_type": "markdown",
   "id": "32bb1fe8",
   "metadata": {},
   "source": [
    "Onde $v_i(t)$ é a tensão de entrada e $v_0(t)$ é a tensão de saída. A função de transferência do filtro pode ser encontrada especificando os nós, ou seja,"
   ]
  },
  {
   "cell_type": "code",
   "execution_count": 2,
   "id": "6d6a66cb",
   "metadata": {
    "scrolled": true
   },
   "outputs": [
    {
     "data": {
      "text/latex": [
       "$$\\frac{1}{\\frac{s}{2} + 1}$$"
      ],
      "text/plain": [
       "  1  \n",
       "─────\n",
       "s    \n",
       "─ + 1\n",
       "2    "
      ]
     },
     "execution_count": 2,
     "metadata": {},
     "output_type": "execute_result"
    }
   ],
   "source": [
    "H = a.transfer(1, 0, 3, 0)\n",
    "H"
   ]
  },
  {
   "cell_type": "markdown",
   "id": "d65fd165",
   "metadata": {},
   "source": [
    "A função de transferência também pode ser obtida especificando as componentes P1 e P2,"
   ]
  },
  {
   "cell_type": "code",
   "execution_count": 3,
   "id": "b578e638",
   "metadata": {},
   "outputs": [
    {
     "data": {
      "text/latex": [
       "$$\\frac{2}{s + 2}$$"
      ],
      "text/plain": [
       "  2  \n",
       "─────\n",
       "s + 2"
      ]
     },
     "execution_count": 3,
     "metadata": {},
     "output_type": "execute_result"
    }
   ],
   "source": [
    "H = a.P1.transfer('P2')\n",
    "\n",
    "H"
   ]
  },
  {
   "cell_type": "markdown",
   "id": "e126c4d1",
   "metadata": {},
   "source": [
    "Vamos definir um sinal senoidal de entrada com frequência angular $\\omega=3 \\frac{\\mbox{rad}}{\\mbox{s}}$, chaveado em $t=0$."
   ]
  },
  {
   "cell_type": "code",
   "execution_count": 4,
   "id": "426c5d5d",
   "metadata": {},
   "outputs": [],
   "source": [
    "v_i = voltage(sin(3 * t) * u(t))"
   ]
  },
  {
   "cell_type": "markdown",
   "id": "70735a2c",
   "metadata": {},
   "source": [
    "A transformada de Laplace da tensão de entrada é obtida como:"
   ]
  },
  {
   "cell_type": "code",
   "execution_count": 5,
   "id": "6aa7409e",
   "metadata": {},
   "outputs": [
    {
     "data": {
      "text/latex": [
       "$$\\frac{3}{s^{2} + 9}$$"
      ],
      "text/plain": [
       "  3   \n",
       "──────\n",
       " 2    \n",
       "s  + 9"
      ]
     },
     "execution_count": 5,
     "metadata": {},
     "output_type": "execute_result"
    }
   ],
   "source": [
    "V_i = v_i(s)\n",
    "\n",
    "V_i"
   ]
  },
  {
   "cell_type": "markdown",
   "id": "ba47c2a6",
   "metadata": {},
   "source": [
    "A transformada de Laplace da saída é encontrada usando o teorema da convolução:"
   ]
  },
  {
   "cell_type": "code",
   "execution_count": 6,
   "id": "af63da90",
   "metadata": {},
   "outputs": [
    {
     "data": {
      "text/latex": [
       "$$\\frac{6}{\\left(s + 2\\right) \\left(s^{2} + 9\\right)}$$"
      ],
      "text/plain": [
       "       6        \n",
       "────────────────\n",
       "        ⎛ 2    ⎞\n",
       "(s + 2)⋅⎝s  + 9⎠"
      ]
     },
     "execution_count": 6,
     "metadata": {},
     "output_type": "execute_result"
    }
   ],
   "source": [
    "V_o = V_i * H\n",
    "V_o"
   ]
  },
  {
   "cell_type": "markdown",
   "id": "65aba4e5",
   "metadata": {},
   "source": [
    "Esta função tem 3 polos, que podem ficar explícitos com a forrma *zero-pole-gain* da resposta."
   ]
  },
  {
   "cell_type": "code",
   "execution_count": 7,
   "id": "9d92e567",
   "metadata": {
    "scrolled": true
   },
   "outputs": [
    {
     "data": {
      "text/latex": [
       "$$\\frac{6}{\\left(s + 2\\right) \\left(s - 3 \\mathrm{j}\\right) \\left(s + 3 \\mathrm{j}\\right)}$$"
      ],
      "text/plain": [
       "             6             \n",
       "───────────────────────────\n",
       "(s + 2)⋅(s - 3⋅ⅉ)⋅(s + 3⋅ⅉ)"
      ]
     },
     "execution_count": 7,
     "metadata": {},
     "output_type": "execute_result"
    }
   ],
   "source": [
    "V_o.ZPK()"
   ]
  },
  {
   "cell_type": "markdown",
   "id": "93cccfb4",
   "metadata": {},
   "source": [
    "A transformada inversa fornece a tensão de saída no domínio do tempo."
   ]
  },
  {
   "cell_type": "code",
   "execution_count": 8,
   "id": "3ee33b14",
   "metadata": {
    "scrolled": true
   },
   "outputs": [
    {
     "data": {
      "text/latex": [
       "$$6 \\cdot \\left(\\frac{2 \\sin{\\left(3 t \\right)}}{39} - \\frac{\\cos{\\left(3 t \\right)}}{13} + \\frac{\\left(-2 - 3 \\mathrm{j}\\right) \\left(-2 + 3 \\mathrm{j}\\right) e^{- 2 t}}{169}\\right) u\\left(t\\right)$$"
      ],
      "text/plain": [
       "  ⎛                                               -2⋅t⎞     \n",
       "  ⎜2⋅sin(3⋅t)   cos(3⋅t)   (-2 - 3⋅ⅉ)⋅(-2 + 3⋅ⅉ)⋅ℯ    ⎟     \n",
       "6⋅⎜────────── - ──────── + ───────────────────────────⎟⋅u(t)\n",
       "  ⎝    39          13                  169            ⎠     "
      ]
     },
     "execution_count": 8,
     "metadata": {},
     "output_type": "execute_result"
    }
   ],
   "source": [
    "v_o = V_o(t)\n",
    "v_o"
   ]
  },
  {
   "cell_type": "markdown",
   "id": "7d694612",
   "metadata": {},
   "source": [
    "Este resultado pode ser simplificado com o método simplify_terms."
   ]
  },
  {
   "cell_type": "code",
   "execution_count": 9,
   "id": "de651b7e",
   "metadata": {
    "scrolled": true
   },
   "outputs": [
    {
     "data": {
      "text/latex": [
       "$$\\frac{2 \\cdot \\left(2 e^{2 t} \\sin{\\left(3 t \\right)} - 3 e^{2 t} \\cos{\\left(3 t \\right)} + 3\\right) e^{- 2 t} u\\left(t\\right)}{13}$$"
      ],
      "text/plain": [
       "  ⎛   2⋅t               2⋅t             ⎞  -2⋅t     \n",
       "2⋅⎝2⋅ℯ   ⋅sin(3⋅t) - 3⋅ℯ   ⋅cos(3⋅t) + 3⎠⋅ℯ    ⋅u(t)\n",
       "────────────────────────────────────────────────────\n",
       "                         13                         "
      ]
     },
     "execution_count": 9,
     "metadata": {},
     "output_type": "execute_result"
    }
   ],
   "source": [
    "v_o.simplify_terms()"
   ]
  },
  {
   "cell_type": "markdown",
   "id": "be9c0c00",
   "metadata": {},
   "source": [
    "Finalmente, podemos fazer um gráfico dos sinais de entrada e saída. "
   ]
  },
  {
   "cell_type": "code",
   "execution_count": 10,
   "id": "e40e9d79",
   "metadata": {
    "scrolled": true
   },
   "outputs": [
    {
     "data": {
      "image/png": "[encoded data removed]",
      "text/plain": [
       "<Figure size 432x288 with 1 Axes>"
      ]
     },
     "metadata": {
      "needs_background": "light"
     },
     "output_type": "display_data"
    }
   ],
   "source": [
    "ax = v_i.plot((-1, 10), label='input')\n",
    "ax = v_o.plot((-1, 10), axes=ax, label='output')\n",
    "ax.legend();"
   ]
  },
  {
   "cell_type": "markdown",
   "id": "38822a4e",
   "metadata": {},
   "source": [
    "## Estabilidade\n",
    "\n",
    "Da equação $Q(s)Y(s)=P(s)X(s)$ obtemos $H(s)=\\frac{P(s)}{Q(s)}$. Qual a relação entre $Q(s)$ e $Q(\\lambda)$? São iguais? $Q(\\lambda)$ é o polinômio característico do sistema, e descreve os seus modos característicos. Daí, $Q(\\lambda)$ é uma descrição interna do sistema. Já $H(s)$ é uma relação de entrada-saída, não considerando o sistema internamente. $H(s)$ fornece uma descrição externa do sistema. Entretanto, se ao montar a função de transferência, não houver cancelamentos entre polos e zeros iguais no numerador e denominador de $H(s)$, então deste caso, $Q(s)=Q(\\lambda)$, e portanto de Q(s) poderemos obter também informação sobre a estabilidade interna do sistema. \n",
    "\n",
    "Assim, a princípio, podemos dizer que se todos polos de $H(s)$, ou as raízes de $Q(s)$, são negativos, ou complexos com parte real negativa (os polos estão no semiplano esquerdo do plano complexo), então, o sistema é BIBO estável. Pois $\\mathcal{L^{-1}}(\\frac{A}{s+a})=Ae^{-at}$, de forma que a resposta ao impulso tende assintóticamente a zero sendo portanto absolutamente integrável. \n",
    "\n",
    "Se a função de transfererência não é própria, isso é, $M$, o grau $P(s)$, é maior que $N$, o grau de $Q(s)$, então o sistema é instável. Por exemplo, seja \n",
    "\n",
    "$$H(s)=\\frac{s^3+4s^2+4s+5}{s^2+3s+2}=s+\\frac{s^2+2s+5}{s^2+3s+2}.$$\n",
    "\n",
    "Note o termo $s$, o primneiro termo de $H(s)$. Se um degrau ($X(s)=\\frac{1}{s}$) é aplicado à entrada, a saída conterá um impulso, sendo portanto ilimitada e BIBO instável. \n",
    "\n",
    "Quando $Q(s)=Q(\\lambda)$, então de $Q(s)$ podemos determinar a estabilidade quase da mesma forma que antes. \n",
    "\n",
    "* Se os polos de $H(s)$ estão no semiplano complexo esquerdo, o sistema é assintoticamente estável.\n",
    "* Se um ou mais polos estão no semi plano direito, ou ainda, existem polos repetidos com parte real nula, o sistema é internamente instável e daí também BIBO instável. Note que $\\mathcal{L}^{-1}(\\frac{1}{s^2})=tu(t)$, instável.\n",
    "* Se existem polos não repetidos com parte real nula, e nenhum polo no caso anterior, então o sistema é marginalmente estável e BIBO instável. Mote que $\\mathcal{L}^{-1}(\\frac{1}{s})=u(t)$."
   ]
  }
 ],
 "metadata": {
  "kernelspec": {
   "display_name": "Python 3 (ipykernel)",
   "language": "python",
   "name": "python3"
  },
  "language_info": {
   "codemirror_mode": {
    "name": "ipython",
    "version": 3
   },
   "file_extension": ".py",
   "mimetype": "text/x-python",
   "name": "python",
   "nbconvert_exporter": "python",
   "pygments_lexer": "ipython3",
   "version": "3.10.4"
  }
 },
 "nbformat": 4,
 "nbformat_minor": 5
}

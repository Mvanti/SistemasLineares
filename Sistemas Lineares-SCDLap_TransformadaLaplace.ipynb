{
 "cells": [
  {
   "cell_type": "markdown",
   "id": "424b7fe2",
   "metadata": {},
   "source": [
    "# Análise de Sistemas em Tempo Contínuo com a Transformada de Laplace\n",
    "\n",
    "A transformada de Laplace é uma ferramenta importante no estudo de sistemas lineares invariantes no tempo. É frequentemente utilizada ao resolver equações diferenciais ou sistemas de equações diferenciais,  determinar a estabilidade, controlabilidade e observabilidade de sistemas, etc.\n",
    "\n",
    "## A Transformada de Laplace\n",
    "\n",
    "Seja uma função $f(t)$. A Transformada de Fourier de $f(t)$ descreve o conteúdo espectral no domínio da frequência e é dada por\n",
    "\n",
    "$$F(j\\omega)=\\mathscr{F}(f(t))=\\int_{-\\infty}^{\\infty}f(t)e^{-j\\omega t}\\,dt$$\n",
    "\n",
    "Definimos uma nova função derivada de $f(t)$ como\n",
    "\n",
    "$$f_s(t)=e^{-\\sigma t}f(t)$$\n",
    "\n",
    "onde  $\\sigma$ representa a taxa na qual o sinal é amortecido no tempo. Portanto,\n",
    "\n",
    "\n",
    "$$\\mathscr{F}(f_s(t))=\\int_{-\\infty}^{\\infty}f(t)e^{-\\sigma t}e^{-j\\omega t}\\,dt=\\int_{-\\infty}^{\\infty}f(t)e^{-st}\\,dt.$$\n",
    "\n",
    "Na equação acima $s=\\sigma +j\\omega$ é denominada frequência complexa, e a ultima integral à direita é a transformada de Laplace  de $f(t)$, escrita como\n",
    "\n",
    "\\begin{equation*}\n",
    "F(s)=\\mathcal{L}(f(t))=\\int_{-\\infty}^{\\infty}f(t)e^{-st}\\,dt.\n",
    "\\label{} \\tag{1}\n",
    "\\end{equation*}\n",
    "\n",
    "Por outro lado, a transformada de Fourier inversa de $F(s)$ é\n",
    "\n",
    "$$f_s(t)=e^{-\\sigma t}f(t)=\\frac{1}{2\\pi}\\int_{-\\infty}^{\\infty}F(s)e^{j\\omega t}\\,d\\omega.$$\n",
    "\n",
    "Como $ds=jd\\omega\\,(\\sigma\\, \\mbox{é constante})$, da última igualdade acima escrevemos a Transformada Inversa de Laplace como\n",
    "\n",
    "\\begin{equation*}\n",
    "f(t)=\\mathcal{L}^{-1}(F(s))=\\frac{1}{j2\\pi}\\int_{\\sigma-j\\infty}^{\\sigma+j\\infty}F(s)e^{st}\\,ds.\n",
    "\\label{}\\tag{2}\n",
    "\\end{equation*}\n",
    "\n",
    "A equação (1) é a transformada de Laplace bilateral. Para sistemas causais, $f(t)=0\\;\\mbox{para}\\;t< 0$, daí o limite inferior agora é $0^-$, e portanto, \n",
    "\n",
    "\\begin{equation*}\n",
    "F(s)=\\mathcal{L}(f(t))=\\int_{0^-}^{\\infty}f(t)e^{-st}\\,dt\n",
    "\\label{}\\tag{3}\n",
    "\\end{equation*}\n",
    "\n",
    "a qual é a transformada de Laplace unilateral.\n",
    "\n",
    "**Exemplo** Seja $f(t)=\\delta(t)$. A transformada do impulso é\n",
    "\n",
    "$$\\int_{0^-}^{\\infty} \\delta(t) e^{-st}\\,dt= 1$$\n",
    "\n",
    "usando a priopriedade da amostragem do impulso. Portanto, temos o par de transformadas\n",
    "\n",
    "$$ \\delta(t) \\Leftrightarrow 1.$$\n",
    "\n",
    "**Exemplo** $f(t)=u(t)$, o degrau unitário ou função passo de heaviside. A transformada de Laplace desta função é\n",
    "\n",
    "$$\\mathcal{L}(u(t))=\\int_{0^-}^{\\infty} e^{-st}\\,dt=\\frac{1}{s}$$ \n",
    "\n",
    "O par transformado é\n",
    "\n",
    "$$u(t)\\Leftrightarrow \\frac{1}{s}$$\n",
    "\n",
    "**Exemplo** Seja a função exponencial $e^{-at}$. A Transformada de Laplace de $e^{-at}u(t)$ é\n",
    "\n",
    "$$\\mathcal{L}(e^{-at}u(t))=\\int_{0^-}^{\\infty} e^{-at}e^{-st}\\,dt=\\int_{0^-}^{\\infty} e^{-(s+a)}t\\,dt=\\frac{1}{s+a}$$\n",
    "\n",
    "O par transformado é\n",
    "\n",
    "$$e^{-at}\\Leftrightarrow \\frac{1}{s+a}$$\n",
    "\n",
    "**Exemplo** Transformadas de outras funções básicas.\n",
    "Usaremos agora a biblioteca simbólica SymPy para fazer uma tabela de transformadas básicas: inicialmente definimos um lista básica de funções. "
   ]
  },
  {
   "cell_type": "code",
   "execution_count": 1,
   "id": "d7479154",
   "metadata": {
    "scrolled": true
   },
   "outputs": [
    {
     "data": {
      "image/png": "[encoded data removed]",
      "text/latex": [
       "$\\displaystyle \\left[ 1, \\  t, \\  e^{- a t}, \\  t e^{- a t}, \\  t^{2} e^{- a t}, \\  \\sin{\\left(\\omega t \\right)}, \\  \\cos{\\left(\\omega t \\right)}\\right]$"
      ],
      "text/plain": [
       "⎡       -a⋅t     -a⋅t   2  -a⋅t                    ⎤\n",
       "⎣1, t, ℯ    , t⋅ℯ    , t ⋅ℯ    , sin(ω⋅t), cos(ω⋅t)⎦"
      ]
     },
     "execution_count": 1,
     "metadata": {},
     "output_type": "execute_result"
    }
   ],
   "source": [
    "#!pip install sympy\n",
    "import sympy as sp\n",
    "sp.init_printing()\n",
    "\n",
    "t, s = sp.symbols('t, s')\n",
    "omega = sp.Symbol('omega', real=True)\n",
    "a = sp.symbols('a', real=True, positive=True)\n",
    "exp = sp.exp\n",
    "sin = sp.sin\n",
    "cos = sp.cos\n",
    "functions = [1,\n",
    "         t,\n",
    "         exp(-a*t),\n",
    "         t*exp(-a*t),\n",
    "         t**2*exp(-a*t),\n",
    "         sin(omega*t),\n",
    "         cos(omega*t)\n",
    "         ]\n",
    "functions"
   ]
  },
  {
   "cell_type": "markdown",
   "id": "0c0fb0c9",
   "metadata": {},
   "source": [
    "Em seguida definimos uma função para determinação da lista de transformadas, usando a função laplace_transform(f, t, s, noconds=True). \"noconds=True\" diz à rotina que queremos apenas a transformada, sem condições de convergência."
   ]
  },
  {
   "cell_type": "code",
   "execution_count": 2,
   "id": "7228743f",
   "metadata": {},
   "outputs": [],
   "source": [
    "def L(f):\n",
    "    return sp.laplace_transform(f, t, s, noconds=True)"
   ]
  },
  {
   "cell_type": "code",
   "execution_count": 3,
   "id": "514b0ce4",
   "metadata": {},
   "outputs": [
    {
     "data": {
      "image/png": "[encoded data removed]",
      "text/latex": [
       "$\\displaystyle \\left[ \\frac{1}{s}, \\  \\frac{1}{s^{2}}, \\  \\frac{1}{a + s}, \\  \\frac{1}{\\left(a + s\\right)^{2}}, \\  \\frac{2}{\\left(a + s\\right)^{3}}, \\  \\frac{\\omega}{\\omega^{2} + s^{2}}, \\  \\frac{s}{\\omega^{2} + s^{2}}\\right]$"
      ],
      "text/plain": [
       "⎡1  1     1       1         2         ω        s   ⎤\n",
       "⎢─, ──, ─────, ────────, ────────, ───────, ───────⎥\n",
       "⎢s   2  a + s         2         3   2    2   2    2⎥\n",
       "⎣   s          (a + s)   (a + s)   ω  + s   ω  + s ⎦"
      ]
     },
     "execution_count": 3,
     "metadata": {},
     "output_type": "execute_result"
    }
   ],
   "source": [
    "Fs = [L(f) for f in functions]\n",
    "Fs"
   ]
  },
  {
   "cell_type": "code",
   "execution_count": 4,
   "id": "52299269",
   "metadata": {},
   "outputs": [],
   "source": [
    "#!pip install pandas\n",
    "from pandas import DataFrame"
   ]
  },
  {
   "cell_type": "code",
   "execution_count": 5,
   "id": "82a8b695",
   "metadata": {},
   "outputs": [],
   "source": [
    "def makelatex(args):\n",
    "    return [\"$${}$$\".format(sp.latex(a)) for a in args]"
   ]
  },
  {
   "cell_type": "code",
   "execution_count": 6,
   "id": "19151da7",
   "metadata": {},
   "outputs": [
    {
     "data": {
      "text/html": [
       "<div>\n",
       "<style scoped>\n",
       "    .dataframe tbody tr th:only-of-type {\n",
       "        vertical-align: middle;\n",
       "    }\n",
       "\n",
       "    .dataframe tbody tr th {\n",
       "        vertical-align: top;\n",
       "    }\n",
       "\n",
       "    .dataframe thead th {\n",
       "        text-align: right;\n",
       "    }\n",
       "</style>\n",
       "<table border=\"1\" class=\"dataframe\">\n",
       "  <thead>\n",
       "    <tr style=\"text-align: right;\">\n",
       "      <th></th>\n",
       "      <th>0</th>\n",
       "      <th>1</th>\n",
       "    </tr>\n",
       "  </thead>\n",
       "  <tbody>\n",
       "    <tr>\n",
       "      <th>0</th>\n",
       "      <td>$$1$$</td>\n",
       "      <td>$$\\frac{1}{s}$$</td>\n",
       "    </tr>\n",
       "    <tr>\n",
       "      <th>1</th>\n",
       "      <td>$$t$$</td>\n",
       "      <td>$$\\frac{1}{s^{2}}$$</td>\n",
       "    </tr>\n",
       "    <tr>\n",
       "      <th>2</th>\n",
       "      <td>$$e^{- a t}$$</td>\n",
       "      <td>$$\\frac{1}{a + s}$$</td>\n",
       "    </tr>\n",
       "    <tr>\n",
       "      <th>3</th>\n",
       "      <td>$$t e^{- a t}$$</td>\n",
       "      <td>$$\\frac{1}{\\left(a + s\\right)^{2}}$$</td>\n",
       "    </tr>\n",
       "    <tr>\n",
       "      <th>4</th>\n",
       "      <td>$$t^{2} e^{- a t}$$</td>\n",
       "      <td>$$\\frac{2}{\\left(a + s\\right)^{3}}$$</td>\n",
       "    </tr>\n",
       "    <tr>\n",
       "      <th>5</th>\n",
       "      <td>$$\\sin{\\left(\\omega t \\right)}$$</td>\n",
       "      <td>$$\\frac{\\omega}{\\omega^{2} + s^{2}}$$</td>\n",
       "    </tr>\n",
       "    <tr>\n",
       "      <th>6</th>\n",
       "      <td>$$\\cos{\\left(\\omega t \\right)}$$</td>\n",
       "      <td>$$\\frac{s}{\\omega^{2} + s^{2}}$$</td>\n",
       "    </tr>\n",
       "  </tbody>\n",
       "</table>\n",
       "</div>"
      ],
      "text/plain": [
       "                                  0                                      1\n",
       "0                             $$1$$                        $$\\frac{1}{s}$$\n",
       "1                             $$t$$                    $$\\frac{1}{s^{2}}$$\n",
       "2                     $$e^{- a t}$$                    $$\\frac{1}{a + s}$$\n",
       "3                   $$t e^{- a t}$$   $$\\frac{1}{\\left(a + s\\right)^{2}}$$\n",
       "4               $$t^{2} e^{- a t}$$   $$\\frac{2}{\\left(a + s\\right)^{3}}$$\n",
       "5  $$\\sin{\\left(\\omega t \\right)}$$  $$\\frac{\\omega}{\\omega^{2} + s^{2}}$$\n",
       "6  $$\\cos{\\left(\\omega t \\right)}$$       $$\\frac{s}{\\omega^{2} + s^{2}}$$"
      ]
     },
     "execution_count": 6,
     "metadata": {},
     "output_type": "execute_result"
    }
   ],
   "source": [
    "DataFrame(list(zip(makelatex(functions), makelatex(Fs))))"
   ]
  },
  {
   "cell_type": "markdown",
   "id": "3d980f8c",
   "metadata": {},
   "source": [
    "### A transformada da derivada\n",
    "\n",
    "$$\\mathcal{L}(f'(t) u(t))=\\int_{0^-}^{\\infty}f'(t)e^{-st}\\,dt$$\n",
    "\n",
    "Integrando por partes, temos\n",
    "\n",
    "$$\\mathcal{L}(f'(t) u(t))=f(t)e^{-st}\\bigg|_{0^-}^{\\infty}+s\\int_{0^-}^{\\infty} f(t)e^{-st}\\,dt$$\n",
    "\n",
    "O primeiro termo do lado direito é $-f(0^-)$(porque $e^{-st}\\rightarrow \\infty$ quando $t\\rightarrow \\infty$) e a integral é simplemente a transformada de $f(t)$, ou seja, $F(s)$, e portanto\n",
    "\n",
    "$$\\mathcal{L}(f'(t) u(t))= sF(s)-f(0^-)$$\n",
    "\n",
    "analogamente, \n",
    "\n",
    "$$\\mathcal{L}(f''(t) u(t))= s^2F(s)-sf(0^-)-f'(0^-)$$\n",
    "\n",
    "e\n",
    "\n",
    "$$\\mathcal{L}(f'''(t) u(t))=s^3F(s)-s^2f(0^-)-sf'(0^-)-f''(0^-)$$\n",
    "\n",
    "e assim, sucessivamente. \n",
    "\n",
    "### A transformada de uma integral\n",
    "\n",
    "$$\\mathcal{L}\\left(\\left\\{\\int_{0^-}^{t} f(\\tau)\\,d\\tau u(t)\\right\\}\\right)=\\int_{0^-}^{\\infty} \\left(\\int f(\\tau)\\,d\\tau\\right) e^{-st} \\,dt$$\n",
    "\n",
    "novamente, integrando por partes,\n",
    "\n",
    "\n",
    "$$\\mathcal{L}\\left(\\left\\{\\int_{0^-}^{t} f(\\tau)\\,d\\tau u(t)\\right\\}\\right)=\\frac{-1}{s}\\int_{0^-}^tf(\\tau)\\,d\\tau\\,e^{-st} \\bigg|_{0^-}^\\infty +\\frac{1}{s}\\int_{0^-}^{\\infty}f(t)e^{-st}\\,dt$$\n",
    "\n",
    "O primeiro termo do lado direito é nulo, enquanto a segunda integral é a transformada de Laplace de $f(t)$, portanto\n",
    "\n",
    "$$\\mathcal{L}\\left(\\left\\{\\int_{0^-}^{t} f(\\tau)\\,d\\tau u(t)\\right\\}\\right)=\\frac{F(s)}{s}$$\n",
    "\n",
    "\n",
    "### A transformada inversa: expansão em frações parciais\n",
    "\n",
    "A transformada inversa formal é obtida através da integral (2), que é uma integral de caminho no plano complexo. Para se obter uma solução de forma mais direta, podemos usar nosso conhecimento dos pares de transformadas como os vistos acima. Entretanto, frequentemente a transformada é uma função racional $F(s)=\\frac{P(s)}{Q(s)}$, onde $P(s)$ e $Q(s)$ são polinomios de $s$. As raízes de $P(s)$ são denominadas de zeros de $F(s)$ e as de $Q(s)$ são os polos de $F(s)$. Neste caso, a expansão em frações parciais leva à decomposição de $F(s)$ em termos mais simples, com fácil identificação de seus pares transformados. Dois casos são considerados:\n",
    "\n",
    "**a) polos distintos.**\n",
    "\n",
    "Seja $F(s)=\\frac{7s-6}{s^2-s-6}=\\frac{7s-6}{(s+2)(s-3)}$. Podemos expandir $F(s)$ como \n",
    "\n",
    "$$F(s)=\\frac{7s-6}{(s+2)(s-3)}=\\frac{A_1}{s+2}+\\frac{A_2}{s-3}.$$\n",
    "\n",
    "Para encontrar $A_1$, simplesmente multiplicamos a equação acima por $s+2$, e depois fazemos $s=-2$ na equação resultante, isso é\n",
    "\n",
    "$$(s+2)F(s)=\\frac{7s-6}{s-3}=A_1+A_2\\frac{s+2}{s-3}$$\n",
    "\n",
    "$$A_1=\\frac{7s-6}{s-3}\\bigg|_{s=-2}=4$$\n",
    "\n",
    "Analogamente, para $A_2$ temos\n",
    "\n",
    "$$A_2=(s-3)F(s)=\\frac{7s-6}{s+2}\\bigg|_{s=3}=3.$$\n",
    "\n",
    "Portanto, $F(s)=\\frac{4}{s+2}+\\frac{3}{s-3}$, e daí, consultando os pares de transformada podemos encontrar $f(t)$:\n",
    "\n",
    "$$f(t)=\\left(4e^{-2t}+3e^{3t}\\right)u(t).$$\n",
    "\n",
    "**b)polos repetidos**\n",
    "\n",
    "seja agora $F(s)=\\frac{3s-1}{s(s-1)^3}$. Como antes expandimos em frações parciais como segue:\n",
    "\n",
    "\\begin{equation*}\n",
    "F(s)=\\frac{3s-1}{s(s-1)^3}=\\frac{A_1}{s}+\\frac{B_1}{(s-1)^3}+\\frac{B_2}{(s-1)^2}+\\frac{B_3}{s-1}.\n",
    "\\label{}\\tag{4}\n",
    "\\end{equation*}\n",
    "\n",
    "para encontrar $A_1$, fazemos como anteriormente, isto é:\n",
    "\n",
    "$$A_1=sF(s)=\\frac{3s-1}{(s-1)^3}\\bigg|_{s=0}=1.$$\n",
    "\n",
    "Já para determinação dos $B_i$s, começamos por multiplicar a equação (4) por $(s-1)^3$\n",
    "\n",
    "\\begin{equation*}\n",
    "\\frac{3s-1}{s}=(s-1)^3\\frac{A_1}{s}+B_1+B_2(s-1)+B_3(s-1)^2,\n",
    "\\label{}\\tag{5}\n",
    "\\end{equation*}\n",
    "\n",
    "e $B_1$  é obtido como:\n",
    "\n",
    "$$B_1=\\frac{3s-1}{s}\\bigg|_{s=1}=2.$$\n",
    "\n",
    "Para determinação de $B_2$, diferenciamos (5) em função de *s*, \n",
    "\n",
    "\\begin{equation*}\n",
    "\\frac{d}{ds}\\left(\\frac{3s-1}{s}\\right)=\\frac{1}{s^2}=B_2+2(s-1)B_3+\\frac{d}{ds}\\left((s-1)^3\\frac{A_1}{s}\\right),\n",
    "\\tag{6}\n",
    "\\end{equation*}\n",
    "\n",
    "e fazendo $s=1$ obtemos $B_2$  como\n",
    "\n",
    "$$B_2=\\frac{1}{s^2}\\bigg|_{s=1}=1.$$\n",
    "\n",
    "Finalmente, diferenciamos novamente (6) para encontrar $B_3$.\n",
    "\n",
    "$$\\frac{d}{ds}\\left(\\frac{1}{s^2}\\right)=\\frac{-2}{s^3}=2B_3\\rightarrow B_3=\\frac{-1}{s^3}\\bigg|_{s=1}=-1,$$\n",
    "\n",
    "$$F(s)=\\frac{1}{s}+\\frac{2}{(s-1)^3}+\\frac{1}{(s-1)^2}-\\frac{1}{s-1}.$$\n",
    "\n",
    "Com os pares 0,2,3 e 4 da tabela, encontramos $f(t)$:\n",
    "\n",
    "$$f(t)=(1+t^2e^{t}+te^{t}+e^t)u(t)$$\n",
    "\n",
    "\n",
    "### Propriedade do deslocamento no tempo:\n",
    "\n",
    "Considere o par transformado $f(t) \\leftrightarrow F(s) $. A transformada de $f(t-t_0)$ é encontrada por simples substituição $t'=t-t_0$:\n",
    "\n",
    "$$\\mathcal{L}(f(t-t_0))=\\int_{0^-}^{\\infty}f(t-t_0)e^{-st}\\,dt=\\int_{0^-}^{\\infty}f(t')e^{-s(t'+t_0)}\\,dt'=e^{-st_o}\\int_{0^-}^{\\infty}f(t')e^{-st'}\\,dt'=e^{-st_0}F(s).$$\n",
    "\n",
    "### Propriedade do deslocamento na frequência:\n",
    "\n",
    "Para uma dada função $f(t)$ com transformada $F(s)$, a transformada de $e^{at}f(t)$ é\n",
    "\n",
    "$$\\mathcal{L}(e^{at}F(s))=\\int_{0^-}^{\\infty}f(t)e^{at}e^{-st}\\,dt=\\int_{0^-}^{\\infty}f(t)e^{-(s-a)t}\\,dt=F(s-a)$$\n",
    "\n",
    "\n",
    "\n",
    "\n",
    "\n",
    "\n",
    "\n"
   ]
  },
  {
   "cell_type": "markdown",
   "id": "e082c773",
   "metadata": {},
   "source": [
    "### Aplicação à Análise de Sistemas\n",
    "\n",
    "**Exemplo** Seja o sistema representado pela equação $(D^2+5D+6)y(t)=(D+1)x(t)$, com as condições iniciais $y(0^-)=2$ e $y'(0^-)=1$, alimentado pela entrada $x(t)=e^{-4t}u(t)$.\n",
    "\n",
    "Iniciamos fazendo a transformada da equação diferencial usando a propriedade da transformada das derivadas, e inserido as condições iniciais, isto é:\n",
    "\n",
    "$$s^2Y(s)-sy(0^-)-y'(0^-)+5sY(s)-5y(0^-)+6Y(s)=(s+1)X(s),$$\n",
    "\n",
    "onde $Y(s)=\\mathcal{L}(y(t))$ e $\\mathcal{L}(x(t))=X(s)=\\frac{1}{s+4}$. Assim, \n",
    "\n",
    "$$(s^2+5s+6)Y(s)=(s+1)X(s)+2s+11$$\n",
    "\n",
    "podemos escrever a equação acima como\n",
    "\n",
    "$$Q(s)Y(s)=P(s)X(s)+2s+11.$$\n",
    "\n",
    "E a resposta no domínio de Laplace, $Y(s)$, é dada por\n",
    "\n",
    "$$Y(s)=\\frac{P(s)}{Q(s)}X(s)+\\frac{2s+11}{Q(s)}.$$\n",
    "\n",
    "$2s+11$ é o termo devido às condições iniciais, portanto, o primeiro termo do lado direito da equação acima é a resposta de estado nulo do sistema, quando o sistema está relaxado (basta anular o segundo termo) enquanto que o segundo termo é a resposta de entrada nula (fazendo $X(s)=0$). Por superposição, a transformada inversa leva a resposta total no domínio do tempo. \n",
    "\n",
    "Voltando ao exemplo, $Q(s)=(s+2)(s+3)$, substituindo $Q(s)\\;e\\ X(s)$ na equação acima resulta em\n",
    "\n",
    "\n",
    "$$Y(s)=\\frac{s+1}{(s+2)(s+3)}\\frac{1}{(s+4)}+\\frac{2s+11}{(s+2)(s+3)},$$\n",
    "\n",
    "$$Y(s)=\\frac{2s^2+20s+45}{(s+2)(s+3)(s+4)}=\\frac{A_1}{s+2}+\\frac{A_2}{s+3}+\\frac{A_3}{s+4},$$\n",
    "\n",
    "de onde determinamos que $A_1=\\frac{13}{2}$, $A_2=-3$ e $A_3=\\frac{-3}{2}$. A resposta no domínio de Laplace é\n",
    "\n",
    "$$Y(s)=\\frac{13}{2}\\frac{1}{s+2}-\\frac{3}{s+3}-\\frac{3}{2}\\frac{1}{s+4}.$$\n",
    "\n",
    "A resposta no domínio do tempo é encontrada com as transformadas inversas dos termos do lado direito.\n",
    "\n",
    "$$y(t)=\\left(\\frac{13}{2}e^{-2t}-3e^{-3t}-\\frac{3}{2}e^{-4t}\\right)u(t).$$\n",
    "\n",
    "\n",
    "\n",
    "\n",
    "\n"
   ]
  },
  {
   "cell_type": "markdown",
   "id": "bc34f696-fc14-4106-b18b-d0b6420a2bea",
   "metadata": {},
   "source": [
    "### Aplicação ao Estudo de Transitórios\n",
    "\n",
    "**Exemplo** Neste primeiro exemplo iremos considerar a situação em que um capacitor com uma tensão inicial $v_0$ é conectado em $t=0$ à um segundo capacitor com carga nula em paralelo com um resistor. O fato dos dois capacitores estarem em paralelo indica que as tensões devem ser as mesmas em ambos, o que exige que uma corrente impulsiva esteja presente para forçar o carregamento instantâneo do segundo capacitor. "
   ]
  },
  {
   "cell_type": "code",
   "execution_count": 7,
   "id": "057364d9-7e9e-44f2-aec4-a0a0f8c275d0",
   "metadata": {},
   "outputs": [],
   "source": [
    "import lcapy as lc\n",
    "s=lc.s\n",
    "t=lc.t\n",
    "cct=lc.Circuit(\"\"\"\n",
    "C1 1 0 C1 v0;down, v=v_0\n",
    "SW 1 2 no;right\n",
    "C2 2 0_2 C2 ;down\n",
    "W 2 3;right\n",
    "R 3 0_3 R;down\n",
    "W 0 0_2;right\n",
    "W 0_2 0_3;right\n",
    "; label_nodes=False\"\"\")\n"
   ]
  },
  {
   "cell_type": "code",
   "execution_count": 8,
   "id": "9cd4a7d2-a7c9-4d6c-8043-04f5e581aa66",
   "metadata": {
    "scrolled": true
   },
   "outputs": [
    {
     "data": {
      "image/png": "[encoded data removed]"
     },
     "metadata": {
      "image/png": {
       "height": 283,
       "width": 621
      }
     },
     "output_type": "display_data"
    }
   ],
   "source": [
    "cct.draw()"
   ]
  },
  {
   "cell_type": "markdown",
   "id": "cb5c5d94-5cc7-448b-b517-024831081fd3",
   "metadata": {},
   "source": [
    " Inicialmente faremos a análise do circuito usando a transformada de Laplace, e para torna-la mais simples iremos considerar os dois capacitores idênticos, $C_1=C_2=C$. Podemos agora obter obter a impedância equivalente para a associação em paralelo do segundo capacitor e resistor, isto é:"
   ]
  },
  {
   "cell_type": "markdown",
   "id": "8e06a5e9-b640-4e55-a02d-a5c3ec8176aa",
   "metadata": {},
   "source": [
    "$$Z_p=\\frac{R}{1+j\\omega RC}$$\n",
    "No estudo em regime permanente normalmente usa-se $s=j\\omega$, e substituindo na expressão acima temos \n",
    "$$Z_p=\\frac{R}{1+sRC}$$"
   ]
  },
  {
   "cell_type": "markdown",
   "id": "42f70282-794f-4802-a7dc-bbc795713057",
   "metadata": {},
   "source": [
    " O capacitor inicialmente carregado pode ser modelado como sua  impedância em série com uma fonte  fonte de tensão $v_o$. A equação transformada da malha resultante é (lembrando que o acionamento da chave pode ser associado á um degrau unitário $v_0u(t)$)\n",
    "\n",
    "$$I(s)(\\frac{1}{sC}+Z_p)-\\frac{V_0}{s}=0$$\n",
    "\n",
    "$$I(s)\\left(\\frac{1}{sC}+\\frac{R}{1+sRC}\\right)=\\frac{V_0}{s}$$\n",
    "\n",
    "$$I(s)\\left(\\frac{1+s2RC}{sC(1+sRC)}\\right)=\\frac{V_0}{s}$$\n",
    "\n",
    "$$I(s)=V_0C\\frac{1+sRC}{1+s2RC}$$"
   ]
  },
  {
   "attachments": {},
   "cell_type": "markdown",
   "id": "626828df-10cf-4726-a695-6ec3f4b3dadd",
   "metadata": {},
   "source": [
    "O denominador e numerador de $I(s)$ possuem o mesmo grau (1) e portanto ainda não podem ser expandidos em frações parciais. Antes, é necessário fazer a divisão polinomial, de forma que \n",
    "\n",
    "$$\\frac{1+sRC}{1+s2RC}=\\frac{1}{2}+\\frac{\\frac{1}{2}}{1+s2RC}$$\n",
    "\n",
    "Substituindo este resultado na equação de $I(s)$, temos\n",
    "\n",
    "$$I(s)=\\frac{V_0C}{2}\\left(1+\\frac{1}{1+s2RC}\\right)=\\frac{V_0C}{2}\\left(1+\\frac{\\frac{1}{2RC}}{s+\\frac{1}{2RC}}\\right)$$\n",
    "\n",
    "de forma que a corrente $i(t)$ é:\n",
    "\n",
    "$$i(t)=\\frac{v_0C}{2}\\left(\\delta(t)+\\frac{1}{2RC}e^{-\\frac{t}{2RC}}\\right)$$\n",
    "\n",
    "onde a parcela impulsiva da corrente é responsável pela transferência instantânea da metade da carga do capacitor $C_1$ para o capacitor $C_2$, equalizando suas tensões a partir do momento que o circuito é chaveado, como será mostrado ao final deste exemplo. \n",
    "\n",
    "Vamos agora refazer a análise com o programa *Lcapy*, mantendo inicialmente a generalidade do circuito original."
   ]
  },
  {
   "cell_type": "code",
   "execution_count": 10,
   "id": "9efe83bc-36f3-42ae-a315-226549e60377",
   "metadata": {},
   "outputs": [],
   "source": [
    "cct_ivp=cct.convert_IVP(0);"
   ]
  },
  {
   "cell_type": "code",
   "execution_count": 11,
   "id": "b724cdff-7d38-4003-92f1-85a71cfc7d84",
   "metadata": {},
   "outputs": [
    {
     "data": {
      "text/latex": [
       "$$\\frac{- \\frac{C_{1} C_{2} v_{0}}{C_{1} + C_{2}} \\left(s + \\frac{1}{C_{2} R}\\right)}{s + \\frac{1}{R \\left(C_{1} + C_{2}\\right)}}$$"
      ],
      "text/plain": [
       "-C₁⋅C₂⋅v₀  ⎛     1  ⎞\n",
       "──────────⋅⎜s + ────⎟\n",
       " C₁ + C₂   ⎝    C₂⋅R⎠\n",
       "─────────────────────\n",
       "            1        \n",
       "   s + ───────────   \n",
       "       R⋅(C₁ + C₂)   "
      ]
     },
     "execution_count": 11,
     "metadata": {},
     "output_type": "execute_result"
    }
   ],
   "source": [
    "I=cct_ivp.C1.i(s).simplify().ZPK()\n",
    "I"
   ]
  },
  {
   "cell_type": "code",
   "execution_count": 12,
   "id": "03bbb305-1697-4876-9c79-d115034c0a41",
   "metadata": {
    "scrolled": true
   },
   "outputs": [
    {
     "data": {
      "text/latex": [
       "$$- \\frac{C_{1} C_{2} v_{0} \\left(\\frac{C_{1} e^{- \\frac{t}{R \\left(C_{1} + C_{2}\\right)}}}{C_{1} C_{2} R + C_{2}^{2} R} + \\delta\\left(t\\right)\\right)}{C_{1} + C_{2}} \\;\\; \\text{for}\\: t \\geq 0$$"
      ],
      "text/plain": [
       "          ⎛        -t            ⎞            \n",
       "          ⎜    ───────────       ⎟            \n",
       "          ⎜    R⋅(C₁ + C₂)       ⎟            \n",
       "          ⎜C₁⋅ℯ                  ⎟            \n",
       "-C₁⋅C₂⋅v₀⋅⎜─────────────── + δ(t)⎟            \n",
       "          ⎜            2         ⎟            \n",
       "          ⎝C₁⋅C₂⋅R + C₂ ⋅R       ⎠            \n",
       "───────────────────────────────────  for t ≥ 0\n",
       "              C₁ + C₂                         "
      ]
     },
     "execution_count": 12,
     "metadata": {},
     "output_type": "execute_result"
    }
   ],
   "source": [
    "I(t)"
   ]
  },
  {
   "cell_type": "markdown",
   "id": "037fad6f-94ba-4381-863c-6162cb369147",
   "metadata": {},
   "source": [
    "Fazendo $C_1=C_2=C$ a expressão acima é idêntica a resultante de nossa análise anterior. A tensão sobre o capacitor $C_2$ é"
   ]
  },
  {
   "cell_type": "code",
   "execution_count": 13,
   "id": "b1abed8a-b3b8-47e1-b7fa-cbd8ce573a6e",
   "metadata": {},
   "outputs": [
    {
     "data": {
      "text/latex": [
       "$$\\frac{C_{1} v_{0} e^{- \\frac{t}{R \\left(C_{1} + C_{2}\\right)}}}{C_{1} + C_{2}} \\;\\; \\text{for}\\: t \\geq 0$$"
      ],
      "text/plain": [
       "           -t                \n",
       "       ───────────           \n",
       "       R⋅(C₁ + C₂)           \n",
       "C₁⋅v₀⋅ℯ                      \n",
       "──────────────────  for t ≥ 0\n",
       "     C₁ + C₂                 "
      ]
     },
     "execution_count": 13,
     "metadata": {},
     "output_type": "execute_result"
    }
   ],
   "source": [
    "cct_ivp.C2.v"
   ]
  },
  {
   "cell_type": "code",
   "execution_count": 14,
   "id": "53d3c6a1-83a1-4d35-a4f7-d563415758e2",
   "metadata": {
    "scrolled": true
   },
   "outputs": [
    {
     "data": {
      "image/png": "[encoded data removed]",
      "text/plain": [
       "<Figure size 640x480 with 1 Axes>"
      ]
     },
     "metadata": {},
     "output_type": "display_data"
    }
   ],
   "source": [
    "ax=cct_ivp.C1.v.subs({'C1':0.5,'C2': 0.5, 'R':3, 'v0': 1}).plot((1,10),label='C1')\n",
    "ax=cct_ivp.C2.v.subs({'C1':0.5,'C2': 0.5, 'R':3, 'v0': 1}).plot((1,10),axes=ax,label='C2')\n",
    "ax.legend();"
   ]
  },
  {
   "cell_type": "markdown",
   "id": "2c180910-7c35-41db-a2b1-c5cf4b41f0aa",
   "metadata": {},
   "source": [
    "O capacitor $C_1$, no gráfico acima possui uma tensão inicial de 1 V, enquanto que $C_2$ está inicialmente descarregado, e portanto, com tensão inicial nula sobre ele. Quando a chave é fechada a metade da carga de $C_1$ é instantaneamente transferida para $C_2$, de forma que em $t=0$ ambos os capacitores possuem 0.5 V sobre eles, tensão esta que decai exponencialmente a partir deste momento. "
   ]
  },
  {
   "cell_type": "markdown",
   "id": "9c3fc023-1db4-452f-9869-56197e7f808b",
   "metadata": {},
   "source": [
    "**Exemplo** Neste segundo exemplo iremos usar o programa *Lcapy* para simular um circuito $RC$ série conectado em $t=0$ à uma fonte de tensão senoidal. O programa permite que o chaveamento seja modelado multiplicando a fonte pela função degrau, ao invés de uma chave,  como mostrado abaixo."
   ]
  },
  {
   "cell_type": "code",
   "execution_count": 15,
   "id": "5eb991c2-81e5-441b-abf7-74beb8b2fbd8",
   "metadata": {},
   "outputs": [],
   "source": [
    "import lcapy as lc\n",
    "s=lc.s\n",
    "t=lc.t\n",
    "cct=lc.Circuit(\"\"\"\n",
    "V 1 0 {sin(omega_0*t+theta)*u(t)};down\n",
    "R 1 2 R;right\n",
    "C 2 0_2 C;down\n",
    "W 0 0_2;right\n",
    "; label_nodes=False\"\"\")\n"
   ]
  },
  {
   "cell_type": "code",
   "execution_count": 16,
   "id": "5d860b07-4f42-4343-ae79-91a6fed3eb3a",
   "metadata": {},
   "outputs": [
    {
     "data": {
      "image/png": "[encoded data removed]"
     },
     "metadata": {
      "image/png": {
       "height": 273,
       "width": 728
      }
     },
     "output_type": "display_data"
    }
   ],
   "source": [
    "cct.draw()"
   ]
  },
  {
   "cell_type": "code",
   "execution_count": 17,
   "id": "f1f12048-8308-41c3-84bb-4368f92c9096",
   "metadata": {},
   "outputs": [
    {
     "data": {
      "text/latex": [
       "$$\\frac{s \\frac{\\sin{\\left(\\theta \\right)}}{R} \\left(\\frac{\\omega_{0}}{\\tan{\\left(\\theta \\right)}} + s\\right)}{\\left(s + \\frac{1}{C R}\\right) \\left(- \\mathrm{j} \\omega_{0} + s\\right) \\left(\\mathrm{j} \\omega_{0} + s\\right)}$$"
      ],
      "text/plain": [
       "       sin(θ) ⎛  ω₀      ⎞      \n",
       "     s⋅──────⋅⎜────── + s⎟      \n",
       "         R    ⎝tan(θ)    ⎠      \n",
       "────────────────────────────────\n",
       "⎛     1 ⎞                       \n",
       "⎜s + ───⎟⋅(-ⅉ⋅ω₀ + s)⋅(ⅉ⋅ω₀ + s)\n",
       "⎝    C⋅R⎠                       "
      ]
     },
     "execution_count": 17,
     "metadata": {},
     "output_type": "execute_result"
    }
   ],
   "source": [
    "cct.R.i(s).simplify().ZPK()"
   ]
  },
  {
   "cell_type": "code",
   "execution_count": 18,
   "id": "941f7c01-08f1-4909-89cc-08e93c563cd0",
   "metadata": {},
   "outputs": [
    {
     "data": {
      "text/latex": [
       "$$\\frac{\\left(C^{2} R^{2} \\omega_{0}^{2} e^{\\frac{t}{C R}} \\sin{\\left(\\omega_{0} t + \\theta \\right)} + C R \\omega_{0} e^{\\frac{t}{C R}} \\cos{\\left(\\omega_{0} t + \\theta \\right)} - C R \\omega_{0} \\cos{\\left(\\theta \\right)} + \\sin{\\left(\\theta \\right)}\\right) e^{- \\frac{t}{C R}} u\\left(t\\right)}{R \\left(C^{2} R^{2} \\omega_{0}^{2} + 1\\right)}$$"
      ],
      "text/plain": [
       "⎛            t                           t                                    \n",
       "⎜           ───                         ───                                   \n",
       "⎜ 2  2   2  C⋅R                         C⋅R                                   \n",
       "⎝C ⋅R ⋅ω₀ ⋅ℯ   ⋅sin(ω₀⋅t + θ) + C⋅R⋅ω₀⋅ℯ   ⋅cos(ω₀⋅t + θ) - C⋅R⋅ω₀⋅cos(θ) + si\n",
       "──────────────────────────────────────────────────────────────────────────────\n",
       "                                        ⎛ 2  2   2    ⎞                       \n",
       "                                      R⋅⎝C ⋅R ⋅ω₀  + 1⎠                       \n",
       "\n",
       "    ⎞  -t      \n",
       "    ⎟  ───     \n",
       "    ⎟  C⋅R     \n",
       "n(θ)⎠⋅ℯ   ⋅u(t)\n",
       "───────────────\n",
       "               \n",
       "               "
      ]
     },
     "execution_count": 18,
     "metadata": {},
     "output_type": "execute_result"
    }
   ],
   "source": [
    "cct.R.i.simplify()"
   ]
  },
  {
   "cell_type": "markdown",
   "id": "feb35b6a-7222-4c2d-85b0-d876427fa9bd",
   "metadata": {},
   "source": [
    "A resposta acima terá um período transitório, indicado no termo exponencial, e será estabilizada em regime em uma função senoidal. Por outro lado, se o ângulo de fase $\\theta$ é escolhido de forma que $\\frac{\\omega_0}{\\tan(\\theta)}=\\frac{1}{CR}$, o zero da na expressão da corrente $I(s)$ será igual à um dos polos, cancelando-se mutuamente, e a resposta agora será uma senoide pura, sem o termo transitório, como mostrado abaixo (para $\\omega$=100 rad/s)."
   ]
  },
  {
   "cell_type": "code",
   "execution_count": 19,
   "id": "8989f6b3-764b-41af-897a-12d245f27d50",
   "metadata": {
    "scrolled": true
   },
   "outputs": [
    {
     "data": {
      "text/latex": [
       "$$\\frac{s \\sin{\\left(\\theta \\right)}}{R \\left(s^{2} + 10000\\right)}$$"
      ],
      "text/plain": [
       "   s⋅sin(θ)   \n",
       "──────────────\n",
       "  ⎛ 2        ⎞\n",
       "R⋅⎝s  + 10000⎠"
      ]
     },
     "execution_count": 19,
     "metadata": {},
     "output_type": "execute_result"
    }
   ],
   "source": [
    "I=lc.current(s*lc.sin('theta')/'R')/(s**2+100**2)\n",
    "I"
   ]
  },
  {
   "cell_type": "code",
   "execution_count": 20,
   "id": "44fce26c-0d44-4033-937e-fb55a54a1ba1",
   "metadata": {},
   "outputs": [
    {
     "data": {
      "text/latex": [
       "$$\\frac{\\sin{\\left(\\theta \\right)} \\cos{\\left(100 t \\right)}}{R} \\;\\; \\text{for}\\: t \\geq 0$$"
      ],
      "text/plain": [
       "sin(θ)⋅cos(100⋅t)           \n",
       "─────────────────  for t ≥ 0\n",
       "        R                   "
      ]
     },
     "execution_count": 20,
     "metadata": {},
     "output_type": "execute_result"
    }
   ],
   "source": [
    "I.ILT()"
   ]
  },
  {
   "cell_type": "markdown",
   "id": "7b7e25ee-d7da-4461-81e5-8c0ebdc1ea65",
   "metadata": {},
   "source": [
    "**Exemplo** Neste último exemplo um circuito *LC* composto de dois indutores e um capacitor é alimentado com um pulso retangular de tensão, que será descrito com duas funções degrau como mostrado abaixo. A resposta é a tensâo sobre o indutor $L_2$ de saída."
   ]
  },
  {
   "cell_type": "code",
   "execution_count": 21,
   "id": "5f6f5b6d-0069-4f25-b177-2851c0b20c2b",
   "metadata": {},
   "outputs": [],
   "source": [
    "import lcapy as lc\n",
    "s=lc.s\n",
    "t=lc.t\n",
    "cct = lc.Circuit(\"\"\"\n",
    "V 1 0 {u(t)-u(t-43e-6)}; down\n",
    "L1 1 2 ; right\n",
    "C 2 0_2; down\n",
    "W 2 3; right\n",
    "L2 3 0_3;down\n",
    "W 0 0_2;right\n",
    "W 0_2 0_3;right\n",
    ";label_nodes=False \"\"\")"
   ]
  },
  {
   "cell_type": "code",
   "execution_count": 22,
   "id": "846c0b38-b243-4a75-8fcd-24bc23dc5594",
   "metadata": {
    "scrolled": true
   },
   "outputs": [
    {
     "data": {
      "image/png": "[encoded data removed]"
     },
     "metadata": {
      "image/png": {
       "height": 272,
       "width": 1027
      }
     },
     "output_type": "display_data"
    }
   ],
   "source": [
    "cct.draw()"
   ]
  },
  {
   "cell_type": "code",
   "execution_count": 23,
   "id": "ff83063e-b9bb-4a07-932c-b0f3888c8563",
   "metadata": {},
   "outputs": [
    {
     "data": {
      "text/latex": [
       "$$\\frac{L_{2} \\left(e^{\\frac{43 s}{1000000}} - 1\\right) e^{- \\frac{43 s}{1000000}}}{s \\left(C L_{1} L_{2} s^{2} + L_{1} + L_{2}\\right)}$$"
      ],
      "text/plain": [
       "   ⎛   43⋅s     ⎞   -43⋅s \n",
       "   ⎜ ───────    ⎟  ───────\n",
       "   ⎜ 1000000    ⎟  1000000\n",
       "L₂⋅⎝ℯ        - 1⎠⋅ℯ       \n",
       "──────────────────────────\n",
       "   ⎛         2          ⎞ \n",
       " s⋅⎝C⋅L₁⋅L₂⋅s  + L₁ + L₂⎠ "
      ]
     },
     "execution_count": 23,
     "metadata": {},
     "output_type": "execute_result"
    }
   ],
   "source": [
    "cct.L2.v(s).simplify()\n"
   ]
  },
  {
   "cell_type": "code",
   "execution_count": 24,
   "id": "919c9d92-412c-40a8-a222-45c8cf79bb85",
   "metadata": {},
   "outputs": [
    {
     "data": {
      "text/latex": [
       "$$\\frac{L_{2} \\left(\\left(L_{1} + L_{2} - \\left(L_{1} + L_{2}\\right) \\cos{\\left(\\frac{t \\sqrt{L_{1} + L_{2}}}{\\sqrt{C} \\sqrt{L_{1}} \\sqrt{L_{2}}} \\right)}\\right) u\\left(t\\right) - \\left(L_{1} + L_{2} - \\left(L_{1} + L_{2}\\right) \\cos{\\left(\\frac{\\sqrt{L_{1} + L_{2}} \\left(t - \\frac{43}{1000000}\\right)}{\\sqrt{C} \\sqrt{L_{1}} \\sqrt{L_{2}}} \\right)}\\right) u\\left(t - \\frac{43}{1000000}\\right)\\right)}{\\left(L_{1} + L_{2}\\right)^{2}}$$"
      ],
      "text/plain": [
       "   ⎛                                                   ⎛                      \n",
       "   ⎜⎛                       ⎛     _________  ⎞⎞        ⎜                      \n",
       "   ⎜⎜                       ⎜ t⋅╲╱ L₁ + L₂   ⎟⎟        ⎜                      \n",
       "L₂⋅⎜⎜L₁ + L₂ - (L₁ + L₂)⋅cos⎜────────────────⎟⎟⋅u(t) - ⎜L₁ + L₂ - (L₁ + L₂)⋅co\n",
       "   ⎜⎜                       ⎜     ____   ____⎟⎟        ⎜                      \n",
       "   ⎝⎝                       ⎝√C⋅╲╱ L₁ ⋅╲╱ L₂ ⎠⎠        ⎝                      \n",
       "──────────────────────────────────────────────────────────────────────────────\n",
       "                                                                  2           \n",
       "                                                         (L₁ + L₂)            \n",
       "\n",
       " ⎛  _________ ⎛       43  ⎞⎞⎞               ⎞\n",
       " ⎜╲╱ L₁ + L₂ ⋅⎜t - ───────⎟⎟⎟               ⎟\n",
       " ⎜            ⎝    1000000⎠⎟⎟  ⎛       43  ⎞⎟\n",
       "s⎜─────────────────────────⎟⎟⋅u⎜t - ───────⎟⎟\n",
       " ⎜          ____   ____    ⎟⎟  ⎝    1000000⎠⎟\n",
       " ⎝     √C⋅╲╱ L₁ ⋅╲╱ L₂     ⎠⎠               ⎠\n",
       "─────────────────────────────────────────────\n",
       "                                             \n",
       "                                             "
      ]
     },
     "execution_count": 24,
     "metadata": {},
     "output_type": "execute_result"
    }
   ],
   "source": [
    "cct.L2.v.simplify()"
   ]
  },
  {
   "cell_type": "code",
   "execution_count": 25,
   "id": "0d4dc100-19b5-48db-aee2-c7a534a4af81",
   "metadata": {
    "scrolled": true
   },
   "outputs": [],
   "source": [
    "cct_num=cct.subs({'L1':40e-3,'L2':5e-3,'C':0.01e-6})"
   ]
  },
  {
   "cell_type": "code",
   "execution_count": 26,
   "id": "c6dc8449-2c47-499a-bca1-7791108b38f0",
   "metadata": {},
   "outputs": [
    {
     "data": {
      "text/latex": [
       "$$\\frac{\\left(1 - \\cos{\\left(150000 t \\right)}\\right) u\\left(t\\right)}{9} + \\frac{\\left(\\cos{\\left(150000 t - \\frac{129}{20} \\right)} - 1\\right) u\\left(t - \\frac{43}{1000000}\\right)}{9}$$"
      ],
      "text/plain": [
       "                           ⎛   ⎛           129⎞    ⎞  ⎛       43  ⎞\n",
       "                           ⎜cos⎜150000⋅t - ───⎟ - 1⎟⋅u⎜t - ───────⎟\n",
       "(1 - cos(150000⋅t))⋅u(t)   ⎝   ⎝            20⎠    ⎠  ⎝    1000000⎠\n",
       "──────────────────────── + ────────────────────────────────────────\n",
       "           9                                  9                    "
      ]
     },
     "execution_count": 26,
     "metadata": {},
     "output_type": "execute_result"
    }
   ],
   "source": [
    "cct_num.L2.v.simplify_terms()"
   ]
  },
  {
   "cell_type": "code",
   "execution_count": 27,
   "id": "1cf91111-9de2-40e5-be10-76c25550219e",
   "metadata": {},
   "outputs": [
    {
     "data": {
      "image/png": "[encoded data removed]",
      "text/plain": [
       "<Figure size 640x480 with 1 Axes>"
      ]
     },
     "metadata": {},
     "output_type": "display_data"
    }
   ],
   "source": [
    "cct_num.L2.v.plot((0,150e-6));"
   ]
  }
 ],
 "metadata": {
  "kernelspec": {
   "display_name": "Python 3 (ipykernel)",
   "language": "python",
   "name": "python3"
  },
  "language_info": {
   "codemirror_mode": {
    "name": "ipython",
    "version": 3
   },
   "file_extension": ".py",
   "mimetype": "text/x-python",
   "name": "python",
   "nbconvert_exporter": "python",
   "pygments_lexer": "ipython3",
   "version": "3.12.3"
  }
 },
 "nbformat": 4,
 "nbformat_minor": 5
}

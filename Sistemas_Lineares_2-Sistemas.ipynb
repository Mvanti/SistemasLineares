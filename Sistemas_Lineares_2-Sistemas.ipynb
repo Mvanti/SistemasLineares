{
 "cells": [
  {
   "cell_type": "markdown",
   "metadata": {},
   "source": [
    "# Sistemas"
   ]
  },
  {
   "cell_type": "markdown",
   "metadata": {},
   "source": [
    "Sinais são processados por sistemas, ou seja, um sistema é  alimentado por um ou mais sinais de entrada , realiza o processamento e libera como resultado um ou mais sinais de saída. Um típico sistema é o circuito elétrico. A entrada é definida como a fonte de alimentação, e a saída pode ser definida como a tensão sobre o resistor.  No script abaixo, usamos o pacote computacional Lcapy para definir, desenhar e analisar um circuito $RC$ simples."
   ]
  },
  {
   "cell_type": "code",
   "execution_count": 1,
   "metadata": {},
   "outputs": [],
   "source": [
    "#!pip install lcapy\n",
    "from lcapy import Circuit,t\n"
   ]
  },
  {
   "cell_type": "code",
   "execution_count": 2,
   "metadata": {},
   "outputs": [
    {
     "data": {
      "image/png": "[encoded data removed]"
     },
     "metadata": {
      "image/png": {
       "height": 299,
       "width": 739
      }
     },
     "output_type": "display_data"
    }
   ],
   "source": [
    "cct = Circuit(\"\"\"\n",
    "Vi 1 0_1 step; down\n",
    "C 1 2; right=1.5\n",
    "R 2 0; down\n",
    "W 0_1 0; right\n",
    "W 0 0_2; right=0.5\n",
    "P1 2_2 0_2; down\n",
    "W 2 2_2;right=0.5\n",
    ";draw_nodes=connections\"\"\")\n",
    "\n",
    "cct.draw()"
   ]
  },
  {
   "cell_type": "markdown",
   "metadata": {},
   "source": [
    "A equação de malha é achada diretamente com os comandos abaixo:"
   ]
  },
  {
   "cell_type": "code",
   "execution_count": 3,
   "metadata": {},
   "outputs": [
    {
     "data": {
      "text/latex": [
       "$$\\left\\{ i_{1}(t) : - R i_{1}(t) + V_{i} u\\left(t\\right) + \\frac{\\int\\limits_{-\\infty}^{t} \\left(- i_{1}(\\tau)\\right)\\, d\\tau}{C} = 0\\right\\}$$"
      ],
      "text/plain": [
       "⎧                            t               ⎫\n",
       "⎪                            ⌠               ⎪\n",
       "⎪                            ⎮  -i₁(τ) dτ    ⎪\n",
       "⎨                            ⌡               ⎬\n",
       "⎪                            -∞              ⎪\n",
       "⎪i₁(t): -R⋅i₁(t) + Vᵢ⋅u(t) + ──────────── = 0⎪\n",
       "⎩                                 C          ⎭"
      ]
     },
     "execution_count": 3,
     "metadata": {},
     "output_type": "execute_result"
    }
   ],
   "source": [
    "l=cct.mesh_analysis()\n",
    "l.mesh_equations()"
   ]
  },
  {
   "cell_type": "markdown",
   "metadata": {},
   "source": [
    "A tensão sobre o resistor (entre os nós 2 e 0) é achada como segue:"
   ]
  },
  {
   "cell_type": "code",
   "execution_count": 4,
   "metadata": {},
   "outputs": [
    {
     "data": {
      "text/latex": [
       "$$V_{i} e^{- \\frac{t}{C R}} u\\left(t\\right)$$"
      ],
      "text/plain": [
       "    -t      \n",
       "    ───     \n",
       "    C⋅R     \n",
       "Vᵢ⋅ℯ   ⋅u(t)"
      ]
     },
     "execution_count": 4,
     "metadata": {},
     "output_type": "execute_result"
    }
   ],
   "source": [
    "cct.R.V(t)"
   ]
  },
  {
   "cell_type": "markdown",
   "metadata": {},
   "source": [
    "## Classificação de Sistemas"
   ]
  },
  {
   "cell_type": "markdown",
   "metadata": {},
   "source": [
    "* Sistemas lineares e não lineares\n",
    "* Sistemas invariantes ou variantes no tempo\n",
    "* Sistemas causais ou não causais\n",
    "* Sistemas contínuos ou discretos no tempo\n",
    "* Sistemas analógicos ou digitais"
   ]
  },
  {
   "cell_type": "markdown",
   "metadata": {},
   "source": [
    "### Sistemas Lineares"
   ]
  },
  {
   "cell_type": "markdown",
   "metadata": {},
   "source": [
    "Para um sistema ser linear ele deve satisfazer duas propriedades: aditividade e homogeneidade."
   ]
  },
  {
   "cell_type": "markdown",
   "metadata": {},
   "source": [
    "#### Aditividade\n",
    "Quando duas ou mais entradas estão atuando em um sistema linear, a saída equivale a soma das saídas resultantes caso cada entrada atuasse isoladamente no sistema.  Ou seja, caso tenhamos duas entradas $x_1$ e $x_2$, sendo que  $y_1$ e $y_2$ são as respectivas saídas quando as entradas atuam isoladamente, então a aditividade é satisfeita quando\n",
    "$$x_1+x_2 \\rightarrow y_1+y_2$$"
   ]
  },
  {
   "cell_type": "markdown",
   "metadata": {},
   "source": [
    "#### Homogeneidade\n",
    "Se a para uma determinada entrada $x$ temos uma saída $y$, ou seja $x \\rightarrow y$, então se $x$ é multiplicada por número  qualquer $k$, teremos na saída\n",
    "\n",
    "$$kx\\rightarrow ky.$$\n",
    "\n",
    "Circuitos elétricos com redes passivas são exemplo de circuitos lineares. Em um circuito com duas fontes normalmente se utiliza da superposição onde a resposta é calculada para cada fonte isoladamente, curto-circuitando-se a outra, e somando-se as respostas obtidas. Isso nada mais é que a aplicação do conceito de aditividade. \n",
    "\n",
    "Um exemplo simples de sistema não linear é aquele cuja saída é dada pelo quadrado da entrada, ou seja, $x \\rightarrow x^2$. Neste caso, havendo duas entradas tais que $x_1 \\rightarrow y_1=x_1^2$ e $ x_2 \\rightarrow y_2=x_2^2$, para uma entrada $x_1+ x_2$ teremos na saída  \n",
    "\n",
    "$$ x_1+ x_2 \\rightarrow (x_1+x_2)^2=x_1^2 +x_2^2 +2x_1x_2 \\ne y_1+y_2$$.\n",
    "\n",
    "Esta situação ocorre circuitos envolvendo elementos semicondutores como diodos, por exemplo."
   ]
  },
  {
   "cell_type": "markdown",
   "metadata": {},
   "source": [
    "### Sistemas Invariantes e  Variantes no Tempo\n",
    "\n",
    "Sistemas com parâmetros constantes no tempo sao invariantes no tempo. em tais sistemas, se uma entrada $x(t)$ sofrer um atraso de $T$ segundos, o mesmo ocorrerá com a saída, ou seja, a saída permanece a mesma mas também atrasada por $T$ segundos,\n",
    "\n",
    "$$x(t+T)\\rightarrow y(t+T)$$\n",
    "\n",
    "Caso a saída não seja uma cópia atrasada da entrada, então o sistema é variante no tempo."
   ]
  },
  {
   "cell_type": "markdown",
   "metadata": {},
   "source": [
    "### Sistemas Causais e Não Causais\n",
    "\n",
    "Em um sistema causal a saída depende exclusivamente da entrada $x(t)$ para $t \\ge t_0$, onde $t_0$ é algum instante de tempo específico. Em um sistema não causal a saída presente no sistema depende também da entrada futura. Um exemplo de sistema não causal é um filtro ideal retangular no domínio da frequência. Este filtro remove completamente quaisquer componentes do sinal de entrada com frequência maior que uma frequência $f_0$, denominhada frequência de corte, enquanto componentntes com frequências menores são encaminhadas para saída sem sofrer alterações de amplitude. No domínio do tempo, o filtro é descrito pela função sinc($x$) $= \\frac{\\sin(x)}{x}$, que é a resposta ao impulso ocorrendo em $t=0$ (ver figura abaixo). Note que a resposta ocorre antes da entrada no instante $t=0$.\n",
    "\n",
    "\n"
   ]
  },
  {
   "attachments": {
    "F1_13.png": {
     "image/png": "[encoded data removed]"
    }
   },
   "cell_type": "markdown",
   "metadata": {},
   "source": [
    "![F1_13.png](attachment:F1_13.png)"
   ]
  },
  {
   "cell_type": "markdown",
   "metadata": {},
   "source": [
    "###  Sistemas em Tempo Contínuo e Tempo Discreto. \n",
    "Sinais em tempo contínuo e tempo discreto foram mostrados no notebook anterior sobre sinais. Sistemas cujas entradas e saídas são sinais contínuos no tempo são sistemas contínuos, assim como sistemas cujas entrada e saídas sejam discretos no tempo são sistemas de tempo discreto. Um computador digital é um sistema de tempo discreto.\n"
   ]
  },
  {
   "cell_type": "markdown",
   "metadata": {},
   "source": [
    "### Sistemas Analógicos e Digitais \n",
    "\n",
    "Sinais analógicos e digitais foram vistos no notebook anterior. Um sistema cujos sinais de entrada e saída sejam analógicos é um sistema analógico. Um amplificador de áudio analógico é um sistema deste tipo. Se os sinais de entrada e saída são digitais, entao o sistema é digital. Um computador digital é um sistema digital."
   ]
  },
  {
   "cell_type": "markdown",
   "metadata": {},
   "source": [
    "## Modelo Entrada-Saída de um Sistema Linear\n",
    "\n",
    "Vamos retomar a equação de malha do circuito $RC$ acima:\n"
   ]
  },
  {
   "cell_type": "code",
   "execution_count": 5,
   "metadata": {
    "scrolled": true
   },
   "outputs": [
    {
     "data": {
      "text/latex": [
       "$$\\left\\{ i_{1}(t) : - R i_{1}(t) + V_{i} u\\left(t\\right) + \\frac{\\int\\limits_{-\\infty}^{t} \\left(- i_{1}(\\tau)\\right)\\, d\\tau}{C} = 0\\right\\}$$"
      ],
      "text/plain": [
       "⎧                            t               ⎫\n",
       "⎪                            ⌠               ⎪\n",
       "⎪                            ⎮  -i₁(τ) dτ    ⎪\n",
       "⎨                            ⌡               ⎬\n",
       "⎪                            -∞              ⎪\n",
       "⎪i₁(t): -R⋅i₁(t) + Vᵢ⋅u(t) + ──────────── = 0⎪\n",
       "⎩                                 C          ⎭"
      ]
     },
     "execution_count": 5,
     "metadata": {},
     "output_type": "execute_result"
    }
   ],
   "source": [
    "l=cct.mesh_analysis()\n",
    "l.mesh_equations()"
   ]
  },
  {
   "cell_type": "markdown",
   "metadata": {},
   "source": [
    "Para simplificar o processo de solução deste circuito, iremos utilizar o operador diferencial $D$ para $\\frac{d}{dt}$ nas equações diferenciais que descrevem o sistema dado.\n",
    "$$ D=\\frac{d}{dt}$$\n",
    "$$ D^2=\\frac{d^2}{dt^2}$$\n",
    "$$ \\frac{1}{D}=\\int_{-\\infty}^{0}  \\,dt$$\n",
    "\n",
    "Assim, a equação de malha pode ser escrita como:\n",
    "\n",
    "$$ Ri_1(t)+\\frac{1}{CD}i_1(t)=V_iu(t)$$\n",
    "\n",
    "Derivar a equação uma segunda vez em relação ao tempo equivale a multiplicá-la por D. Com isso elimina-se a integração. \n",
    "\n",
    "$$ DRi_1(t)+\\frac{1}{C}i_1(t)=DV_iu(t)$$\n",
    "$$ (DR+\\frac{1}{C})i_1(t)=DV_iu(t) $$"
   ]
  }
 ],
 "metadata": {
  "kernelspec": {
   "display_name": "Python 3 (ipykernel)",
   "language": "python",
   "name": "python3"
  },
  "language_info": {
   "codemirror_mode": {
    "name": "ipython",
    "version": 3
   },
   "file_extension": ".py",
   "mimetype": "text/x-python",
   "name": "python",
   "nbconvert_exporter": "python",
   "pygments_lexer": "ipython3",
   "version": "3.11.8"
  }
 },
 "nbformat": 4,
 "nbformat_minor": 4
}

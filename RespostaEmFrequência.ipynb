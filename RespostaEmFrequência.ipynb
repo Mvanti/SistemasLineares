{
 "cells": [
  {
   "cell_type": "markdown",
   "id": "83f5ec6e",
   "metadata": {},
   "source": [
    "# Resposta Em Frequência\n",
    "\n",
    "\n",
    "## Resposta à Excitação  Senoidal\n",
    "\n",
    "\n",
    "A reposta de um sistema $S$ à uma exponencial de duração infinita com frequência complexa $s$, $e^{st}$, é obtida através da integral de convolução\n",
    "\n",
    "$$y(t)=e^{st}*h(t)=\\int_{-\\infty}^{\\infty} e^{s\\tau}h(t-\\tau)\\,d\\tau=\\int_{-\\infty}^{\\infty}h(\\tau)e^{s(t-\\tau)}\\,d\\tau=e^{st}\\int_{-\\infty}^{\\infty}h(\\tau)e^{-s\\tau}\\,d\\tau=e^{st}H(s)$$\n",
    "\n",
    "onde $h(t)$ é a resposta ao impulso. \n",
    "\n",
    "Podemos escrever simplesmente que\n",
    "\n",
    "$$e^{st}\\Rightarrow H(s)e^{st}$$\n",
    "\n",
    "Agora, fazendo $s=j\\omega$, teremos $H(s)=H(j\\omega)$, e portanto\n",
    "\n",
    "$$e^{j\\omega t}\\Rightarrow H(j\\omega)e^{j\\omega t}$$\n",
    "\n",
    "onde $e^{j\\omega t}=\\cos{\\omega t}+j\\sin{\\omega t}$. Por isso, tomando apenas a parte real,\n",
    "\n",
    "$$\\Re (e^{j\\omega t})=\\cos(\\omega t) \\Rightarrow \\Re (H(j\\omega)e^{j\\omega t})$$\n",
    "\n",
    "$H(j\\omega )=\\big|H(j\\omega )\\big|e^{j\\angle H(j\\omega)}$. Substituindo na expressão acima, temos\n",
    "\n",
    "$$\\Re (e^{j\\omega t})=\\cos(\\omega t) \\Rightarrow \\big|H(j\\omega )\\big|\\Re(e^{j(\\omega t+\\angle H(j\\omega))})=\\big|H(j\\omega )\\big|\\cos(\\omega t+\\angle H(j\\omega))$$\n",
    "\n",
    "onde $\\big|H(j\\omega)\\big|$  é o ganho de amplitude, $\\angle H(j\\omega)$ é a resposta de fase e $H(j\\omega)$ é a resposta em frequência do sistema."
   ]
  },
  {
   "cell_type": "markdown",
   "id": "5468ca16",
   "metadata": {},
   "source": [
    "**Exemplo** Seja um sistema com função de transferência $H(s)=\\frac{s+0.1}{s+5}$, e uma entrada $x(t)=\\cos(\\omega t)$. "
   ]
  },
  {
   "cell_type": "code",
   "execution_count": 1,
   "id": "d4f11617",
   "metadata": {},
   "outputs": [
    {
     "data": {
      "text/latex": [
       "$$\\frac{s + \\frac{1}{10}}{s + 5}$$"
      ],
      "text/plain": [
       "s + 1/10\n",
       "────────\n",
       " s + 5  "
      ]
     },
     "execution_count": 1,
     "metadata": {},
     "output_type": "execute_result"
    }
   ],
   "source": [
    "from lcapy import *\n",
    "H=transfer((s+0.1)/(s+5))\n",
    "H"
   ]
  },
  {
   "cell_type": "code",
   "execution_count": 2,
   "id": "ca167446",
   "metadata": {},
   "outputs": [
    {
     "data": {
      "text/latex": [
       "$$\\frac{\\mathrm{j} \\omega + 0.1}{\\mathrm{j} \\omega + 5.0}$$"
      ],
      "text/plain": [
       "ⅉ⋅ω + 0.1\n",
       "─────────\n",
       "ⅉ⋅ω + 5.0"
      ]
     },
     "execution_count": 2,
     "metadata": {},
     "output_type": "execute_result"
    }
   ],
   "source": [
    "Hr=H(jomega).val\n",
    "Hr"
   ]
  },
  {
   "cell_type": "code",
   "execution_count": 3,
   "id": "b0f81c9a",
   "metadata": {},
   "outputs": [
    {
     "data": {
      "text/latex": [
       "$$\\frac{\\left(\\omega^{2} + \\frac{1}{100}\\right)^{0.5}}{5 \\left(\\frac{\\omega^{2}}{25} + 1.0\\right)^{0.5}}$$"
      ],
      "text/plain": [
       "          -0.5              \n",
       "⎛ 2      ⎞               0.5\n",
       "⎜ω       ⎟     ⎛ 2    1 ⎞   \n",
       "⎜── + 1.0⎟    ⋅⎜ω  + ───⎟   \n",
       "⎝25      ⎠     ⎝     100⎠   \n",
       "────────────────────────────\n",
       "             5              "
      ]
     },
     "execution_count": 3,
     "metadata": {},
     "output_type": "execute_result"
    }
   ],
   "source": [
    "Num=abs(Hr.numerator).val\n",
    "Den=abs(Hr.denominator).val\n",
    "Hm=Num/Den\n",
    "Hm"
   ]
  },
  {
   "cell_type": "code",
   "execution_count": 4,
   "id": "c3dda408",
   "metadata": {},
   "outputs": [
    {
     "data": {
      "text/latex": [
       "$$57.2957795130823 \\operatorname{atan}{\\left(\\frac{49.0 \\omega}{10.0 \\omega^{2} + 5.0} \\right)}$$"
      ],
      "text/plain": [
       "                     ⎛    49.0⋅ω   ⎞\n",
       "57.2957795130823⋅atan⎜─────────────⎟\n",
       "                     ⎜      2      ⎟\n",
       "                     ⎝10.0⋅ω  + 5.0⎠"
      ]
     },
     "execution_count": 4,
     "metadata": {},
     "output_type": "execute_result"
    }
   ],
   "source": [
    "Hf=Hr.phase_degrees.val\n",
    "Hf"
   ]
  },
  {
   "cell_type": "code",
   "execution_count": 5,
   "id": "06599e7e",
   "metadata": {},
   "outputs": [
    {
     "data": {
      "image/png": "[encoded data removed]",
      "text/plain": [
       "<Figure size 432x288 with 1 Axes>"
      ]
     },
     "metadata": {
      "needs_background": "light"
     },
     "output_type": "display_data"
    }
   ],
   "source": [
    "Hm.plot((0,20));"
   ]
  },
  {
   "cell_type": "code",
   "execution_count": 6,
   "id": "f25ff8ce",
   "metadata": {},
   "outputs": [
    {
     "data": {
      "text/latex": [
       "$$0.371854624912701$$"
      ],
      "text/plain": [
       "0.371854624912701"
      ]
     },
     "execution_count": 6,
     "metadata": {},
     "output_type": "execute_result"
    }
   ],
   "source": [
    "Hm(2).val"
   ]
  },
  {
   "cell_type": "code",
   "execution_count": 7,
   "id": "f2ab3907",
   "metadata": {},
   "outputs": [
    {
     "data": {
      "text/latex": [
       "$$0.894471911241488$$"
      ],
      "text/plain": [
       "0.894471911241488"
      ]
     },
     "execution_count": 7,
     "metadata": {},
     "output_type": "execute_result"
    }
   ],
   "source": [
    "Hm(10).val"
   ]
  },
  {
   "cell_type": "code",
   "execution_count": 8,
   "id": "e4853a6c",
   "metadata": {},
   "outputs": [
    {
     "data": {
      "image/png": "[encoded data removed]",
      "text/plain": [
       "<Figure size 432x288 with 1 Axes>"
      ]
     },
     "metadata": {
      "needs_background": "light"
     },
     "output_type": "display_data"
    }
   ],
   "source": [
    "Hf.plot((0,20));"
   ]
  },
  {
   "cell_type": "code",
   "execution_count": 9,
   "id": "31409c80",
   "metadata": {},
   "outputs": [
    {
     "data": {
      "text/latex": [
       "$$65.3361852875364$$"
      ],
      "text/plain": [
       "65.3361852875364"
      ]
     },
     "execution_count": 9,
     "metadata": {},
     "output_type": "execute_result"
    }
   ],
   "source": [
    "Hf(2).val"
   ]
  },
  {
   "cell_type": "code",
   "execution_count": 10,
   "id": "a6d5efb8",
   "metadata": {},
   "outputs": [
    {
     "data": {
      "text/latex": [
       "$$25.9921124793945$$"
      ],
      "text/plain": [
       "25.9921124793945"
      ]
     },
     "execution_count": 10,
     "metadata": {},
     "output_type": "execute_result"
    }
   ],
   "source": [
    "Hf(10).val"
   ]
  },
  {
   "cell_type": "markdown",
   "id": "e4158426",
   "metadata": {},
   "source": [
    "**Exemplo** O atrasador ideal\n",
    "\n",
    "Um atrasador ideal de $T$ segundos é um sistema tal que $y(t)=x(t-T)$. Segundo a propriedade do deslocamento no tempo, $Y(s)=e^{-sT}X(s)$.  Portanto, a função de transferência do atrasador ideal de $T$ segundos é $H(s)=e^{-sT}$."
   ]
  },
  {
   "cell_type": "code",
   "execution_count": 11,
   "id": "3525b65a",
   "metadata": {},
   "outputs": [
    {
     "data": {
      "text/latex": [
       "$$e^{- \\mathrm{j} T \\omega}$$"
      ],
      "text/plain": [
       " -ⅉ⋅T⋅ω\n",
       "ℯ      "
      ]
     },
     "execution_count": 11,
     "metadata": {},
     "output_type": "execute_result"
    }
   ],
   "source": [
    "T=symbol('T')\n",
    "H=transfer(exp(-s*T))\n",
    "Hr=H(jomega)\n",
    "Hr"
   ]
  },
  {
   "cell_type": "code",
   "execution_count": 12,
   "id": "d07b1a70",
   "metadata": {},
   "outputs": [
    {
     "data": {
      "text/latex": [
       "$$1$$"
      ],
      "text/plain": [
       "1"
      ]
     },
     "execution_count": 12,
     "metadata": {},
     "output_type": "execute_result"
    }
   ],
   "source": [
    "Hm=abs(Hr)\n",
    "Hm"
   ]
  },
  {
   "cell_type": "code",
   "execution_count": 13,
   "id": "1a18854e",
   "metadata": {},
   "outputs": [
    {
     "data": {
      "text/latex": [
       "$$\\mathrm{atan_{2}}{\\left(- \\sin{\\left(T \\omega \\right)},\\cos{\\left(T \\omega \\right)} \\right)}$$"
      ],
      "text/plain": [
       "atan2(-sin(T⋅ω), cos(T⋅ω))"
      ]
     },
     "execution_count": 13,
     "metadata": {},
     "output_type": "execute_result"
    }
   ],
   "source": [
    "Hf=Hr.angle\n",
    "Hf"
   ]
  },
  {
   "cell_type": "code",
   "execution_count": 14,
   "id": "99931564",
   "metadata": {
    "scrolled": true
   },
   "outputs": [
    {
     "data": {
      "image/png": "[encoded data removed]",
      "text/plain": [
       "<Figure size 432x288 with 1 Axes>"
      ]
     },
     "metadata": {
      "needs_background": "light"
     },
     "output_type": "display_data"
    }
   ],
   "source": [
    "Hf.subs('T',1).plot((0,3));"
   ]
  },
  {
   "cell_type": "markdown",
   "id": "e64686f1",
   "metadata": {},
   "source": [
    "**Exemplo** O diferenciador ideal\n",
    "\n",
    "Um diferenciador ideal é um sistema tal que $y(t)=\\frac{dx(t)}{dt}$. Segundo a propriedade da derivada temporal, $Y(s)=sX(s)$, e a função de transferência é $H(s)=s$."
   ]
  },
  {
   "cell_type": "code",
   "execution_count": 15,
   "id": "26c2a814",
   "metadata": {},
   "outputs": [
    {
     "data": {
      "text/latex": [
       "$$\\mathrm{j} \\omega$$"
      ],
      "text/plain": [
       "ⅉ⋅ω"
      ]
     },
     "execution_count": 15,
     "metadata": {},
     "output_type": "execute_result"
    }
   ],
   "source": [
    "H=transfer(s)\n",
    "Hr=H(jomega)\n",
    "Hr"
   ]
  },
  {
   "cell_type": "code",
   "execution_count": 16,
   "id": "2640d1c2",
   "metadata": {},
   "outputs": [
    {
     "data": {
      "text/latex": [
       "$$\\left|{\\omega}\\right|$$"
      ],
      "text/plain": [
       "│ω│"
      ]
     },
     "execution_count": 16,
     "metadata": {},
     "output_type": "execute_result"
    }
   ],
   "source": [
    "Hm=abs(Hr)\n",
    "Hm"
   ]
  },
  {
   "cell_type": "code",
   "execution_count": 17,
   "id": "dbeabcb1",
   "metadata": {
    "scrolled": true
   },
   "outputs": [
    {
     "data": {
      "text/latex": [
       "$$\\frac{\\pi}{2}$$"
      ],
      "text/plain": [
       "π\n",
       "─\n",
       "2"
      ]
     },
     "execution_count": 17,
     "metadata": {},
     "output_type": "execute_result"
    }
   ],
   "source": [
    "Hf=Hr.phase\n",
    "Hf(6)"
   ]
  },
  {
   "cell_type": "code",
   "execution_count": 18,
   "id": "b3f08d9c",
   "metadata": {
    "scrolled": true
   },
   "outputs": [
    {
     "data": {
      "image/png": "[encoded data removed]",
      "text/plain": [
       "<Figure size 432x288 with 1 Axes>"
      ]
     },
     "metadata": {
      "needs_background": "light"
     },
     "output_type": "display_data"
    }
   ],
   "source": [
    "Hm.plot((0,10));"
   ]
  },
  {
   "cell_type": "markdown",
   "id": "7de7df92",
   "metadata": {},
   "source": [
    "**Exemplo** O integrador ideal\n",
    "\n",
    "Para o integrador ideal, $y(t)=\\int_0^t x(\\tau)\\,d\\tau$, e daí, $Y(s)=\\frac{X(s)}{s}$. A função de transferência é $H(s)=\\frac{1}{s}$."
   ]
  },
  {
   "cell_type": "code",
   "execution_count": 19,
   "id": "3aed3074",
   "metadata": {},
   "outputs": [
    {
     "data": {
      "text/latex": [
       "$$- \\frac{\\mathrm{j}}{\\omega}$$"
      ],
      "text/plain": [
       "-ⅉ \n",
       "───\n",
       " ω "
      ]
     },
     "execution_count": 19,
     "metadata": {},
     "output_type": "execute_result"
    }
   ],
   "source": [
    "H=transfer(1/s)\n",
    "Hr=H(jomega)\n",
    "Hr"
   ]
  },
  {
   "cell_type": "code",
   "execution_count": 20,
   "id": "1357c3f8",
   "metadata": {
    "scrolled": true
   },
   "outputs": [
    {
     "data": {
      "text/latex": [
       "$$\\frac{1}{\\omega}$$"
      ],
      "text/plain": [
       "1\n",
       "─\n",
       "ω"
      ]
     },
     "execution_count": 20,
     "metadata": {},
     "output_type": "execute_result"
    }
   ],
   "source": [
    "Hm=abs(Hr)\n",
    "Hm"
   ]
  },
  {
   "cell_type": "code",
   "execution_count": 21,
   "id": "988abd5a",
   "metadata": {},
   "outputs": [
    {
     "data": {
      "image/png": "[encoded data removed]",
      "text/plain": [
       "<Figure size 432x288 with 1 Axes>"
      ]
     },
     "metadata": {
      "needs_background": "light"
     },
     "output_type": "display_data"
    }
   ],
   "source": [
    "Hm.plot((0.1,2));"
   ]
  },
  {
   "cell_type": "code",
   "execution_count": 22,
   "id": "f166cca4",
   "metadata": {},
   "outputs": [
    {
     "data": {
      "text/latex": [
       "$$- \\frac{\\pi}{2}$$"
      ],
      "text/plain": [
       "-π \n",
       "───\n",
       " 2 "
      ]
     },
     "execution_count": 22,
     "metadata": {},
     "output_type": "execute_result"
    }
   ],
   "source": [
    "Hf=Hr.phase\n",
    "Hf"
   ]
  },
  {
   "cell_type": "markdown",
   "id": "0b7233a8",
   "metadata": {},
   "source": [
    "### A Resposta em Frequência Para Uma Entrada Senoidal Causal é a Resposta em Regime Permanente\n",
    "\n",
    "Seja um sistema com função de transferência $H(s)=\\frac{P(s)}{Q(s)}$ e entrada $x(t)=e^{j\\omega t}u(t)$. A resposta no domínio de Laplace é\n",
    "\n",
    "$$Y(s)=\\frac{P(s)}{Q(s)}X(s)=\\frac{P(s)}{Q(s)}\\frac{1}{s-j\\omega}$$\n",
    "\n",
    "Expandindo a resposta acima em frações parciais, teremos algo como\n",
    "\n",
    "$$Y(s)=\\frac{A_1}{s+s_1}+ \\frac{A_2}{s+s_2}+ \\cdots +\\frac{A_N}{s+s_N}+\\frac{A_{\\omega}}{s-j\\omega}$$\n",
    "\n",
    "A transformada inversa de cada um dos primeiros $N$ termos é $A_ie^{-s_it}$, que amortecem assintoticamente para zero quando $t\\rightarrow \\infty$. Portanto, em regime permanente temos\n",
    "\n",
    "$$Y(s)=\\frac{A_{\\omega}}{s-j\\omega}$$\n",
    "\n",
    "e finalmente, \n",
    "\n",
    "$$A_{\\omega}=(s-j\\omega)H(s)\\frac{1}{(s-j\\omega)}\\bigg|_{s=j\\omega}=H(j\\omega)$$\n",
    "\n",
    "e\n",
    "\n",
    "$$y(t)=H(j\\omega)e^{j\\omega t}$$"
   ]
  }
 ],
 "metadata": {
  "kernelspec": {
   "display_name": "Python 3 (ipykernel)",
   "language": "python",
   "name": "python3"
  },
  "language_info": {
   "codemirror_mode": {
    "name": "ipython",
    "version": 3
   },
   "file_extension": ".py",
   "mimetype": "text/x-python",
   "name": "python",
   "nbconvert_exporter": "python",
   "pygments_lexer": "ipython3",
   "version": "3.12.3"
  }
 },
 "nbformat": 4,
 "nbformat_minor": 5
}

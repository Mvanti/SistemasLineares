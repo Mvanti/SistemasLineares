{
 "cells": [
  {
   "cell_type": "markdown",
   "id": "6d5af4c3",
   "metadata": {},
   "source": [
    "# Análise de Sistemas em Tempo Contínuo no Domínio do Tempo\n",
    "\n",
    "## Resposta ao Impulso"
   ]
  },
  {
   "cell_type": "markdown",
   "id": "4a921801",
   "metadata": {},
   "source": [
    "\n",
    "Quando estudarmos a resposta de estado nulo, veremos que a resposta para qualquer função de entrada pode ser determinada através de uma operação especial, denominada de  integral de convolução, enntre a função de entrada e a resposta ao impulso do sistema. Neste notebook estudaremos agora como calcular a resposta à uma entrada impulsiva.\n",
    "\n",
    "Vamos substituir $x(t)=\\delta(t)$ em $Q(D)y(t)=P(D)x(t)$. Também definimos $h(t)$ como a resposta ao impulso. Ainda, vamos inicialmente considerar $N=M$. Então, temos\n",
    "\n",
    "\\begin{equation*}\n",
    "Q(D)h(t)=P(D)\\delta(t)\n",
    "\\label{} \\tag{1}\n",
    "\\end{equation*}\n",
    "\n",
    "ou\n",
    "\n",
    "\\begin{equation*}\n",
    "(D^N+a_1D^{N-1}+ ...+ a_N)h(t)=(b_0D^N+b_1D^{N-1}+...+b_N)\\delta(t)\n",
    "\\label{} \\tag{2}\n",
    "\\end{equation*}\n",
    "\n",
    "No momento em que a entrada impulsiva é aplicada ocorre o armazenamento súbito de energia no sistema, e imediatamente após (denotaremos este tempo por $0^+$), o impulso se extingue, e o sistema passa a responder como na resposta de entrada nula, mas com condições iniciais alteradas pelo impulso. Portanto, a resposta $h(t)$ contém termos relativos a resposta impulsiva e termos baseados nos modos característicos, quando a entrada impulsiva não está mais presente. \n",
    "\n",
    "\\begin{equation*}\n",
    " h(t)=A\\delta(t) + \\sum_{}^{} c_i e^{\\lambda_i t}.\n",
    "\\label{} \\tag{3}\n",
    "\\end{equation*}\n",
    "\n",
    "Substituindo (3) em (2), as derivadas dos termos impulsivos nos dois lados da equação devem coincidir. Então\n",
    "\n",
    "$$D^NA\\delta(t)=D^Nb_0\\delta(t) \\rightarrow A=b_0.$$\n",
    "\n",
    "Por outro lado, se $M<N$, $A=b_0=0$ e $h(t)$ conterá apenas os modos característicos do sistema. Como vimos, a determinação da resposta baseada nos modos característicos é obtida através das novas condições iniciais impostas pela entrada impulsiva. \n",
    "\n",
    "Considere a equação derivada do sistema (1) abaixo:\n",
    "\n",
    "\\begin{equation*}\n",
    "Q(D)g(t)=\\delta(t)\n",
    "\\tag{4}\n",
    "\\end{equation*}\n",
    "\n",
    "Onde substituimos $P(D)=1$ e $g(t)$ é conhecida como a função de Green do  problema. No lado direito de (4) temos apenas o impulso, de modo que $g(0)$ e suas derivadas , com excessão de $D^Ng(0)$ e $D^{(N-1)}g(0)$ devem ser nulas. Caso não fosse assim, no lado direito de (4) haveria termos como a derivada do impulso, o que não ocorre.  Por outro lado, $D^Ng(0)=\\delta(t)$, e portanto $D^{N-1}g(0)=u(t)$, um degrau unitário. Além disso, note que os sistemas descritos pelas equações (1) e (4) compartilham os mesmos modos característicos, por possuirem o mesmo polinômio característico $Q(\\lambda)$. \n",
    "\n",
    "A solução da equação (4) para $t>0$ é facilmente encontrada se lembrarmos que o impulso deixa de existir mas novas condições iniciais são estabelecidas como discutido acima. Assim temos \n",
    "\n",
    "$$ Q(D)g(t)=0$$\n",
    "\n",
    "com as condições iniciais $y^{N-1}(0^+)=1,\\; y^{N-2}(0^+)=y^{N-3}(0^+)=...=y(0^+)=0$. Ou seja, temos um problema típico de entrada nula. Tendo encontrado a função de Green, basta agora premultiplicar $g(t)$  e também o impulso pelo polinômio $P(D)$ original, de forma que\n",
    "\n",
    "\\begin{equation*}\n",
    "Q(D)P(D)g(t)=P(D)\\delta(t)\n",
    "\\tag{5}\n",
    "\\end{equation*}\n",
    "\n",
    "e finalmente, comparando (1) e (5) vemos que $h(t)=A\\delta(t)+P(D)g(t).$"
   ]
  },
  {
   "cell_type": "markdown",
   "id": "f929a660",
   "metadata": {},
   "source": [
    "**Exemplo** Seja o sistema $(D^2+3D+2)y(t)=(3D^2+1)x(t)$, e uma entrada impulsiva $x(t)=\\delta(t)$. Nosso objetivo é a determinação da resposta à esta entrada.\n",
    "\n",
    "Inicialmente, podemos verificar que $M=N=2$ e $A=3$. Portanto \n",
    "\n",
    "$$h(t)=3\\delta(t) +\\sum_{}^{} c_ie^{\\lambda_i(t)}.$$\n",
    "\n",
    "precisamos agora determinar os modos característicos de $h(t)$. Para isso resolveremos o seguinte problema:\n",
    "\n",
    "$$(D^2+3D+2)g(t)=0$$\n",
    "\n",
    "com as condições iniciais $g(0^+)=0,\\;g(0^+)'=1$.\n",
    "As raízes da equação característica são $\\lambda_1=-1\\;\\mbox{e}\\;\\lambda_2=-2$. Então\n",
    "\n",
    "$$g(t)=c_1e^{-t}+c_2e^{-2t}.$$\n",
    "\n",
    "Inserindo as condições iniciais encontramos $c_1=1\\;\\mbox{e}\\;c_2=-1$. Assim, a resposta ao impulso é\n",
    "\n",
    "$$h(t)=3\\delta(t)+(3D^2+1)(e^{-t}-e^{-2t})=3\\delta(t)+(4e^{-t}-13e^{-2t})u(t).$$\n",
    "\n",
    "Com o pequeno *script* abaixo podemos fazer o gráfico da resposta baseada nos modos característicos para $t>0^+$."
   ]
  },
  {
   "cell_type": "code",
   "execution_count": 1,
   "id": "81234a14",
   "metadata": {},
   "outputs": [],
   "source": [
    "#!pip install numpy\n",
    "#!pip install matplotlib"
   ]
  },
  {
   "cell_type": "code",
   "execution_count": 2,
   "id": "2e6efe70",
   "metadata": {},
   "outputs": [
    {
     "data": {
      "image/png": "[encoded data removed]",
      "text/plain": [
       "<Figure size 432x288 with 1 Axes>"
      ]
     },
     "metadata": {
      "needs_background": "light"
     },
     "output_type": "display_data"
    }
   ],
   "source": [
    "import numpy as np\n",
    "import matplotlib.pyplot as plt\n",
    "\n",
    "t=np.linspace(0,4,100)\n",
    "h= (4*np.exp(-t)-13*np.exp(-2*t))\n",
    "\n",
    "plt.plot(t,h)\n",
    "plt.ylim([-10,1]);\n",
    "plt.grid()\n"
   ]
  }
 ],
 "metadata": {
  "kernelspec": {
   "display_name": "Python 3 (ipykernel)",
   "language": "python",
   "name": "python3"
  },
  "language_info": {
   "codemirror_mode": {
    "name": "ipython",
    "version": 3
   },
   "file_extension": ".py",
   "mimetype": "text/x-python",
   "name": "python",
   "nbconvert_exporter": "python",
   "pygments_lexer": "ipython3",
   "version": "3.12.4"
  }
 },
 "nbformat": 4,
 "nbformat_minor": 5
}

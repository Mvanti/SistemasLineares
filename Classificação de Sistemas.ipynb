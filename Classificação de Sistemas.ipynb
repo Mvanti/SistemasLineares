{
 "cells": [
  {
   "cell_type": "markdown",
   "id": "3371d2a8",
   "metadata": {},
   "source": [
    "# Classificação de Sistemas Segundo a Ordem de Sua Equação Diferencial\n",
    "\n",
    "\n",
    "## Sistemas de Primeira Ordem \n",
    "\n",
    "\n",
    "$$ H(s)=\\frac{K}{1+s\\tau}$$\n",
    "\n",
    "Na função de transferência acima, $K$ é o ganho estático do sistema e $\\tau$ é a constante de tempo."
   ]
  },
  {
   "cell_type": "markdown",
   "id": "e56ab922",
   "metadata": {},
   "source": [
    "A resposta ao impulso é obtida através da Transformada Inversa de Laplace. Podemos fazer isso usando Lcapy"
   ]
  },
  {
   "cell_type": "code",
   "execution_count": 1,
   "id": "bf8a46e1",
   "metadata": {
    "scrolled": true
   },
   "outputs": [
    {
     "data": {
      "text/latex": [
       "$$\\frac{K e^{- \\frac{t}{\\tau}} u\\left(t\\right)}{\\tau}$$"
      ],
      "text/plain": [
       "   -t      \n",
       "   ───     \n",
       "    τ      \n",
       "K⋅ℯ   ⋅u(t)\n",
       "───────────\n",
       "     τ     "
      ]
     },
     "execution_count": 1,
     "metadata": {},
     "output_type": "execute_result"
    }
   ],
   "source": [
    "from lcapy import *\n",
    "K,tau=symbols('K tau')\n",
    "\n",
    "H=K/(1+tau*s)\n",
    "h=H.ILT(causal=True)\n",
    "h"
   ]
  },
  {
   "cell_type": "markdown",
   "id": "67ba8eec",
   "metadata": {},
   "source": [
    "Como exemplo, considere o ganho =5 e a constante de tempo = 2. A resposta à entrada degrau pode ser eencontrada como mostrado abaixo:"
   ]
  },
  {
   "cell_type": "code",
   "execution_count": 2,
   "id": "0749dd8a",
   "metadata": {
    "scrolled": true
   },
   "outputs": [
    {
     "data": {
      "text/latex": [
       "$$\\frac{5}{s \\left(2 s + 1\\right)}$$"
      ],
      "text/plain": [
       "     5     \n",
       "───────────\n",
       "s⋅(2⋅s + 1)"
      ]
     },
     "execution_count": 2,
     "metadata": {},
     "output_type": "execute_result"
    }
   ],
   "source": [
    "Y=H.subs({'K':5,'tau':2})*(1/s)\n",
    "Y"
   ]
  },
  {
   "cell_type": "code",
   "execution_count": 3,
   "id": "fb7208ae",
   "metadata": {},
   "outputs": [
    {
     "data": {
      "text/latex": [
       "$$5 \\cdot \\left(1 - e^{- \\frac{t}{2}}\\right) u\\left(t\\right)$$"
      ],
      "text/plain": [
       "  ⎛     -t ⎞     \n",
       "  ⎜     ───⎟     \n",
       "  ⎜      2 ⎟     \n",
       "5⋅⎝1 - ℯ   ⎠⋅u(t)"
      ]
     },
     "execution_count": 3,
     "metadata": {},
     "output_type": "execute_result"
    }
   ],
   "source": [
    "y=Y.ILT(causal=True)\n",
    "y"
   ]
  },
  {
   "cell_type": "markdown",
   "id": "909ba971",
   "metadata": {},
   "source": [
    "O gráfico da resposta pode ser obtido como:"
   ]
  },
  {
   "cell_type": "code",
   "execution_count": 4,
   "id": "2fa8b48c",
   "metadata": {
    "scrolled": false
   },
   "outputs": [
    {
     "data": {
      "image/png": "[encoded data removed]",
      "text/plain": [
       "<Figure size 432x288 with 1 Axes>"
      ]
     },
     "metadata": {
      "needs_background": "light"
     },
     "output_type": "display_data"
    }
   ],
   "source": [
    "y.plot((0,10));"
   ]
  },
  {
   "cell_type": "markdown",
   "id": "dc82ab6a",
   "metadata": {},
   "source": [
    "quando $t$ atinge a constante de tempo, a saída é 63,2% ($e^{-1}$) do valor final em estado estacionário, o qual neste caso é 3,16."
   ]
  },
  {
   "cell_type": "code",
   "execution_count": 5,
   "id": "e13a2c82",
   "metadata": {},
   "outputs": [
    {
     "data": {
      "text/latex": [
       "$$3.16060279414279$$"
      ],
      "text/plain": [
       "3.16060279414279"
      ]
     },
     "execution_count": 5,
     "metadata": {},
     "output_type": "execute_result"
    }
   ],
   "source": [
    "y(2).val"
   ]
  },
  {
   "cell_type": "markdown",
   "id": "643997f8",
   "metadata": {},
   "source": [
    "O *tempo de resposta* $t_r$ mede o intervalo necessário para a resposta atinja 0,95 do seu valor final. Generalizando o exemplo acima, é o tempo para que $1-e^{-\\frac{t_r}{\\tau}}=0.95$, ou seja, $t_r\\approx 3\\tau$."
   ]
  },
  {
   "cell_type": "markdown",
   "id": "d5ac34e6",
   "metadata": {},
   "source": [
    "O teorema do valor final permite calcular a resposta em regime estatcionário, a qual é 5. Usando Lcapy obtemos o mesmo resultado, ou seja o valor final é o Ganho da função de transferência."
   ]
  },
  {
   "cell_type": "code",
   "execution_count": 6,
   "id": "b69949d1",
   "metadata": {},
   "outputs": [
    {
     "data": {
      "text/latex": [
       "$$5$$"
      ],
      "text/plain": [
       "5"
      ]
     },
     "execution_count": 6,
     "metadata": {},
     "output_type": "execute_result"
    }
   ],
   "source": [
    "y.final_value()"
   ]
  },
  {
   "attachments": {
    "massa_mola-3.png": {
     "image/png": "[encoded data removed]"
    }
   },
   "cell_type": "markdown",
   "id": "4c711b6a",
   "metadata": {},
   "source": [
    "## Sistemas de Segunda Ordem\n",
    "\n",
    "O sistema massa-mola é um exemplo típico de sistemas de segunda ordem:\n",
    "\n",
    "![massa_mola-3.png](attachment:massa_mola-3.png)\n",
    "No desenho acima, $\\gamma$ é o coeficiente de atrito viscoso e $k$ é a constante da mola. Nesta análise o comportamento da mola será considerado linear. Usando a Lei de forças de Newton para modelar o sistema, a força aplicada deve igualar a soma das  forças de fricção e de restaro da mola\n",
    " \n",
    " $$My\"(t)=F(t)-\\gamma y'(t)-ky(t)$$\n",
    " \n",
    "ou ainda\n",
    "\n",
    "$$y\"(t)+\\frac{\\gamma}{M}y'(t)+\\frac{k}{M}y(t)=\\frac{F(t)}{M}$$\n",
    "\n",
    "A quantidade $\\sqrt{\\frac{k}{M}}$ é a *frequência natural não amortecida*  $\\omega_n$ do sistema. Com efeito, para $\\gamma=0$ a solução da equação acima é $y(t)=y_0(t)e^{j\\sqrt{\\frac{k}{M}}t}=y_0(t)e^{j\\omega_n t}$. Além disso, vamos definir o fator de amortecimento $\\zeta=\\frac{\\gamma}{2M\\omega_n}$ e o ganho dos sistema como $K=\\frac{1}{k}$. Daí, $\\frac{1}{M}=\\frac{\\omega_n^2}{k}=K\\omega_n^2$ e podemos escrever que (usando $x(t)=F(t)$)\n",
    "\n",
    "$$y\"(t)+2\\zeta \\omega_ny'(t)+\\omega_n^2y(t)=K\\omega_n^2x(t).$$\n",
    "\n",
    "Aplicando a transformada de Laplace e assumindo condições iniciais nulas resulta em \n",
    "\n",
    "$$(s^2+2\\zeta \\omega_ns+\\omega_n^2)Y(s)=K\\omega_n^2X(s)$$\n",
    "\n",
    "Portanto a função de transferência do sistema é\n",
    "\n",
    "$$H(s)=\\frac{Y(s)}{X(s)}=\\frac{K\\omega_n^2}{s^2+2\\zeta \\omega_ns+\\omega_n^2}$$\n",
    "\n",
    "cujos polos são $s_{1,2}=-\\zeta \\omega_n \\pm \\omega_n\\sqrt{\\zeta^2-1}$. Note que para uma entrada degrau $\\frac{E}{s}$ o teorema do valor final diz que a resposta em regime do sistema será $y(\\infty)=\\lim_{s\\to0}EH(s)=EK$.\n",
    "A resposta de um sistema de segunda ordem a uma entrada degraus pode ser classificada em três categorias distintas, dependendo se $\\zeta^2-1 \\;\\mbox{é negativo, nulo ou positivo}$.\n"
   ]
  },
  {
   "cell_type": "markdown",
   "id": "8876bdef",
   "metadata": {},
   "source": [
    "**Exemplos**"
   ]
  },
  {
   "cell_type": "markdown",
   "id": "fc2afde7",
   "metadata": {},
   "source": [
    "* $H(s)=\\frac{3}{4s^2+12s+1}$, onde $K=3$, $\\omega_n=\\frac{1}{2}$ e $\\zeta=3$."
   ]
  },
  {
   "cell_type": "code",
   "execution_count": 7,
   "id": "b4f89081",
   "metadata": {},
   "outputs": [
    {
     "data": {
      "text/latex": [
       "$$\\frac{3}{4 s^{2} + 12 s + 1}$$"
      ],
      "text/plain": [
       "       3       \n",
       "───────────────\n",
       "   2           \n",
       "4⋅s  + 12⋅s + 1"
      ]
     },
     "execution_count": 7,
     "metadata": {},
     "output_type": "execute_result"
    }
   ],
   "source": [
    "from lcapy import *\n",
    "H=tf(3,[4,12,1])\n",
    "H"
   ]
  },
  {
   "cell_type": "code",
   "execution_count": 8,
   "id": "f9343b5d",
   "metadata": {},
   "outputs": [
    {
     "data": {
      "image/png": "[encoded data removed]",
      "text/latex": [
       "$$\\left\\{ - \\frac{3}{2} - \\sqrt{2} : 1, \\  - \\frac{3}{2} + \\sqrt{2} : 1\\right\\}$$"
      ],
      "text/plain": [
       "{-3/2 - √2: 1, -3/2 + √2: 1}"
      ]
     },
     "execution_count": 8,
     "metadata": {},
     "output_type": "execute_result"
    }
   ],
   "source": [
    "H.poles()\n"
   ]
  },
  {
   "cell_type": "markdown",
   "id": "9deee845",
   "metadata": {},
   "source": [
    "\n",
    "* $H(s)=\\frac{3}{2s^2+2s+2}$, onde $K=\\frac{3}{2}$, $\\omega_n=1$ e $\\zeta=\\frac{1}{2}$."
   ]
  },
  {
   "cell_type": "code",
   "execution_count": 9,
   "id": "d7a46a66",
   "metadata": {},
   "outputs": [
    {
     "data": {
      "text/latex": [
       "$$\\frac{3}{2 \\left(s^{2} + s + 1\\right)}$$"
      ],
      "text/plain": [
       "      3       \n",
       "──────────────\n",
       "  ⎛ 2        ⎞\n",
       "2⋅⎝s  + s + 1⎠"
      ]
     },
     "execution_count": 9,
     "metadata": {},
     "output_type": "execute_result"
    }
   ],
   "source": [
    "H=tf(3,[2,2,2])\n",
    "H.canonical()"
   ]
  },
  {
   "cell_type": "code",
   "execution_count": 10,
   "id": "19d307dc",
   "metadata": {
    "scrolled": true
   },
   "outputs": [
    {
     "data": {
      "image/png": "[encoded data removed]",
      "text/latex": [
       "$$\\left\\{ - \\frac{1}{2} - \\frac{\\sqrt{3} \\mathrm{j}}{2} : 1, \\  - \\frac{1}{2} + \\frac{\\sqrt{3} \\mathrm{j}}{2} : 1\\right\\}$$"
      ],
      "text/plain": [
       "⎧  1   √3⋅ⅉ       1   √3⋅ⅉ   ⎫\n",
       "⎨- ─ - ────: 1, - ─ + ────: 1⎬\n",
       "⎩  2    2         2    2     ⎭"
      ]
     },
     "execution_count": 10,
     "metadata": {},
     "output_type": "execute_result"
    }
   ],
   "source": [
    "H.poles()"
   ]
  },
  {
   "cell_type": "markdown",
   "id": "1ce653dd",
   "metadata": {},
   "source": [
    "* $H(s)=\\frac{3}{s^2+s+0.25}$, onde $K=12$, $\\omega_n=\\frac{1}{2}$ e $\\zeta=1$."
   ]
  },
  {
   "cell_type": "code",
   "execution_count": 11,
   "id": "7d4b1e2c",
   "metadata": {},
   "outputs": [
    {
     "data": {
      "text/latex": [
       "$$\\frac{3}{s^{2} + s + \\frac{1}{4}}$$"
      ],
      "text/plain": [
       "    3     \n",
       "──────────\n",
       " 2       1\n",
       "s  + s + ─\n",
       "         4"
      ]
     },
     "execution_count": 11,
     "metadata": {},
     "output_type": "execute_result"
    }
   ],
   "source": [
    "H=tf(3,[1,1,expr(1/4)])\n",
    "H"
   ]
  },
  {
   "cell_type": "code",
   "execution_count": 12,
   "id": "42122eaa",
   "metadata": {},
   "outputs": [
    {
     "data": {
      "image/png": "[encoded data removed]",
      "text/latex": [
       "$$\\left\\{ - \\frac{1}{2} : 2\\right\\}$$"
      ],
      "text/plain": [
       "{-1/2: 2}"
      ]
     },
     "execution_count": 12,
     "metadata": {},
     "output_type": "execute_result"
    }
   ],
   "source": [
    "H.poles()"
   ]
  },
  {
   "cell_type": "markdown",
   "id": "916e6161",
   "metadata": {},
   "source": [
    "### Resposta Subamortecida ($\\zeta^2 < 1$)\n",
    "\n",
    "Quando $\\zeta < 1$ os polos são complexos\n",
    "\n",
    "$$s_{1,2}=-\\zeta \\omega_n \\pm j\\omega_n \\sqrt{1-\\zeta^2}$$\n",
    "\n",
    "\n",
    "onde $\\omega_n \\sqrt{1-\\zeta^2}$ é a *frequência natural amortecida* $\\omega_d$. A função de transferência fatorada é\n",
    "\n",
    "$$H(s)=\\frac{K\\omega_n^2}{(s+\\zeta\\omega_n+j\\omega_d)(s+\\zeta\\omega_n-j\\omega_d)}$$\n",
    "\n",
    "A reposta à entrada degrau com amplitude $E$ pode ser obtida com auxílio de Lcapy, para simplificar as transformadas de Laplace inversas. Portanto, de início definimos a função de transferência e a resposta ao degrau. \n"
   ]
  },
  {
   "cell_type": "code",
   "execution_count": 13,
   "id": "12f614bc",
   "metadata": {
    "scrolled": true
   },
   "outputs": [
    {
     "data": {
      "text/latex": [
       "$$\\frac{E K \\omega_{n}^{2}}{s \\left(\\omega_{d}^{2} + \\left(\\omega_{n} \\zeta + s\\right)^{2}\\right)}$$"
      ],
      "text/plain": [
       "             2        \n",
       "       E⋅K⋅ωₙ         \n",
       "──────────────────────\n",
       "  ⎛   2             2⎞\n",
       "s⋅⎝ω_d  + (ωₙ⋅ζ + s) ⎠"
      ]
     },
     "execution_count": 13,
     "metadata": {},
     "output_type": "execute_result"
    }
   ],
   "source": [
    "from lcapy import *\n",
    "K,zeta,omega_n,omega_d,E=symbols('K zeta omega_n omega_d E')\n",
    "\n",
    "Y=K*E*(omega_n)**2/(s*((s+zeta*omega_n)**2+(omega_d)**2))\n",
    "Y\n"
   ]
  },
  {
   "cell_type": "markdown",
   "id": "016839d0",
   "metadata": {},
   "source": [
    "Em seguida obtemos a transformada inversa e simplificamos a expressão resultante."
   ]
  },
  {
   "cell_type": "code",
   "execution_count": 14,
   "id": "a7cb592d",
   "metadata": {
    "scrolled": true
   },
   "outputs": [
    {
     "data": {
      "text/latex": [
       "$$\\frac{E K \\omega_{n}^{2} u\\left(t\\right)}{\\omega_{d}^{2} + \\omega_{n}^{2} \\zeta^{2}} - 2 E K \\sqrt{\\frac{\\omega_{n}^{6} \\zeta^{2}}{\\left(2 \\omega_{d}^{3} e^{\\omega_{n} t \\zeta} + 2 \\omega_{d} \\omega_{n}^{2} \\zeta^{2} e^{\\omega_{n} t \\zeta}\\right)^{2}} + \\frac{\\omega_{n}^{4}}{\\left(2 \\omega_{d}^{2} e^{\\omega_{n} t \\zeta} + 2 \\omega_{n}^{2} \\zeta^{2} e^{\\omega_{n} t \\zeta}\\right)^{2}}} \\cos{\\left(\\omega_{d} t - \\operatorname{atan}{\\left(\\frac{\\omega_{n} \\zeta \\left(2 \\omega_{d}^{2} e^{\\omega_{n} t \\zeta} + 2 \\omega_{n}^{2} \\zeta^{2} e^{\\omega_{n} t \\zeta}\\right)}{2 \\omega_{d}^{3} e^{\\omega_{n} t \\zeta} + 2 \\omega_{d} \\omega_{n}^{2} \\zeta^{2} e^{\\omega_{n} t \\zeta}} \\right)} \\right)} u\\left(t\\right)$$"
      ],
      "text/plain": [
       "                             _________________________________________________\n",
       "       2                    ╱                    6  2                         \n",
       " E⋅K⋅ωₙ ⋅u(t)              ╱                   ωₙ ⋅ζ                          \n",
       "───────────── - 2⋅E⋅K⋅    ╱   ──────────────────────────────────────── + ─────\n",
       "   2     2  2            ╱                                           2        \n",
       "ω_d  + ωₙ ⋅ζ            ╱     ⎛     3  ωₙ⋅t⋅ζ           2  2  ωₙ⋅t⋅ζ⎞    ⎛    \n",
       "                      ╲╱      ⎝2⋅ω_d ⋅ℯ       + 2⋅ω_d⋅ωₙ ⋅ζ ⋅ℯ      ⎠    ⎝2⋅ω_\n",
       "\n",
       "________________________________                                              \n",
       "             4                      ⎛            ⎛     ⎛     2  ωₙ⋅t⋅ζ       2\n",
       "           ωₙ                       ⎜            ⎜ωₙ⋅ζ⋅⎝2⋅ω_d ⋅ℯ       + 2⋅ωₙ \n",
       "─────────────────────────────── ⋅cos⎜ω_d⋅t - atan⎜────────────────────────────\n",
       "                              2     ⎜            ⎜      3  ωₙ⋅t⋅ζ           2 \n",
       " 2  ωₙ⋅t⋅ζ       2  2  ωₙ⋅t⋅ζ⎞      ⎝            ⎝ 2⋅ω_d ⋅ℯ       + 2⋅ω_d⋅ωₙ ⋅\n",
       "d ⋅ℯ       + 2⋅ωₙ ⋅ζ ⋅ℯ      ⎠                                                \n",
       "\n",
       "                   \n",
       "  2  ωₙ⋅t⋅ζ⎞⎞⎞     \n",
       "⋅ζ ⋅ℯ      ⎠⎟⎟     \n",
       "────────────⎟⎟⋅u(t)\n",
       " 2  ωₙ⋅t⋅ζ  ⎟⎟     \n",
       "ζ ⋅ℯ        ⎠⎠     \n",
       "                   "
      ]
     },
     "execution_count": 14,
     "metadata": {},
     "output_type": "execute_result"
    }
   ],
   "source": [
    "y=Y.ILT(causal=True).simplify_sin_cos()\n",
    "y"
   ]
  },
  {
   "cell_type": "code",
   "execution_count": 15,
   "id": "06c1c664",
   "metadata": {
    "scrolled": true
   },
   "outputs": [
    {
     "data": {
      "text/latex": [
       "$$- E K \\sqrt{- \\frac{1}{\\zeta^{2} - 1}} e^{- \\omega_{n} t \\zeta} \\cos{\\left(\\omega_{n} t \\sqrt{1 - \\zeta^{2}} - \\operatorname{atan}{\\left(\\frac{\\zeta}{\\sqrt{1 - \\zeta^{2}}} \\right)} \\right)} u\\left(t\\right) + E K u\\left(t\\right)$$"
      ],
      "text/plain": [
       "           ________             ⎛        ________                    ⎞        \n",
       "          ╱  -1      -ωₙ⋅t⋅ζ    ⎜       ╱      2        ⎛     ζ     ⎞⎟        \n",
       "- E⋅K⋅   ╱  ────── ⋅ℯ       ⋅cos⎜ωₙ⋅t⋅╲╱  1 - ζ   - atan⎜───────────⎟⎟⋅u(t) + \n",
       "        ╱    2                  ⎜                       ⎜   ________⎟⎟        \n",
       "      ╲╱    ζ  - 1              ⎜                       ⎜  ╱      2 ⎟⎟        \n",
       "                                ⎝                       ⎝╲╱  1 - ζ  ⎠⎠        \n",
       "\n",
       "        \n",
       "        \n",
       "E⋅K⋅u(t)\n",
       "        \n",
       "        \n",
       "        "
      ]
     },
     "execution_count": 15,
     "metadata": {},
     "output_type": "execute_result"
    }
   ],
   "source": [
    "y=y.subs('omega_d',omega_n*sqrt(1-zeta**2)).simplify_terms()\n",
    "y"
   ]
  },
  {
   "cell_type": "markdown",
   "id": "d2b47b3e",
   "metadata": {},
   "source": [
    " A resposta do sistema subamortecido é\n",
    " \n",
    " $$y(t)=EK\\left[1-\\frac{e^{-\\zeta\\omega_n t}}{\\sqrt{1-\\zeta^2}}\\cos\\left(\\omega_d-\\phi\\right)\\right]u(t)$$\n",
    " \n",
    " onde $\\phi=\\arctan\\frac{\\zeta}{\\sqrt{1-\\zeta^2}}$.\n",
    " \n",
    " \n",
    " \n",
    " **Exemplo** Neste exemplo são comparadas duas respostas à uma entrada degrau unitário para valores de $\\zeta=\\frac{1}{2}$ e $\\zeta=\\frac{1}{4}$.  Ainda, usamos $K=1$ e $\\omega_n=1$:"
   ]
  },
  {
   "cell_type": "code",
   "execution_count": 16,
   "id": "3849fbbb",
   "metadata": {},
   "outputs": [
    {
     "data": {
      "text/latex": [
       "$$\\frac{3 u\\left(t\\right)}{2} - \\sqrt{3} e^{- \\frac{t}{2}} \\sin{\\left(\\frac{\\sqrt{3} t}{2} + \\frac{\\pi}{3} \\right)} u\\left(t\\right)$$"
      ],
      "text/plain": [
       "             -t                    \n",
       "             ───                   \n",
       "3⋅u(t)        2     ⎛√3⋅t   π⎞     \n",
       "────── - √3⋅ℯ   ⋅sin⎜──── + ─⎟⋅u(t)\n",
       "  2                 ⎝ 2     3⎠     "
      ]
     },
     "execution_count": 16,
     "metadata": {},
     "output_type": "execute_result"
    }
   ],
   "source": [
    "y1=y.subs({'E':1,'K':1.5,'zeta': 0.5,'omega_n':1})\n",
    "y1"
   ]
  },
  {
   "cell_type": "code",
   "execution_count": 17,
   "id": "09dc70cc",
   "metadata": {},
   "outputs": [
    {
     "data": {
      "text/latex": [
       "$$\\frac{3 u\\left(t\\right)}{2} - \\frac{2 \\sqrt{15} e^{- \\frac{t}{4}} \\cos{\\left(\\frac{\\sqrt{15} t}{4} - \\operatorname{atan}{\\left(\\frac{\\sqrt{15}}{15} \\right)} \\right)} u\\left(t\\right)}{5}$$"
      ],
      "text/plain": [
       "                -t                             \n",
       "                ───                            \n",
       "                 4     ⎛√15⋅t       ⎛√15⎞⎞     \n",
       "         2⋅√15⋅ℯ   ⋅cos⎜───── - atan⎜───⎟⎟⋅u(t)\n",
       "3⋅u(t)                 ⎝  4         ⎝ 15⎠⎠     \n",
       "────── - ──────────────────────────────────────\n",
       "  2                        5                   "
      ]
     },
     "execution_count": 17,
     "metadata": {},
     "output_type": "execute_result"
    }
   ],
   "source": [
    "y2=y.subs({'E':1,'K':1.5,'zeta': 0.25,'omega_n':1})\n",
    "y2"
   ]
  },
  {
   "cell_type": "code",
   "execution_count": 18,
   "id": "625212ac",
   "metadata": {
    "scrolled": true
   },
   "outputs": [
    {
     "data": {
      "image/png": "[encoded data removed]",
      "text/plain": [
       "<Figure size 432x288 with 1 Axes>"
      ]
     },
     "metadata": {
      "needs_background": "light"
     },
     "output_type": "display_data"
    }
   ],
   "source": [
    "ax=y1.plot((-1,15),label='$\\zeta$=0.5');\n",
    "ax=y2.plot((-1,15),axes=ax,label='$\\zeta$=0.25')\n",
    "ax.legend();"
   ]
  },
  {
   "cell_type": "markdown",
   "id": "08397738",
   "metadata": {},
   "source": [
    "#### Tempo de Pico, Máximo Sobresinal e Tempo de Resposta\n",
    "\n",
    "O tempo de pico é o o instante no qual a resposta atinge o seu máximo valor. O máximo sobresinal é a diferença entre a resposta  em regime e o seu valor de pico. \n",
    "\n",
    "O tempo de pico é encontrado derivando a resposta $y(t)$ com respeito ao tempo e igualando a zero, e é dado por\n",
    "\n",
    "$$t_p=\\frac{\\pi}{\\omega_d}.$$\n",
    "\n",
    "Substituindo = tempo de pico em $y(t)$, temos\n",
    "\n",
    "$$y(t_p)=KE\\left[1+e^{-\\zeta\\omega_nt_p}\\right]$$\n",
    "\n",
    "de onde pode-se escrever\n",
    "\n",
    "$$M_p=\\frac{y(t_p)-KE}{KE}=\\frac{y(t_p)-y(\\infty)}{y(\\infty)}=e^{-\\zeta\\omega_nt_p}$$\n",
    "\n",
    "A constante de tempo é $\\tau=\\frac{1}{\\zeta\\omega_n}$, a partir da inspeção do termo exponencial na resposta $y(t)$. Portanto, o tempo de resposta é\n",
    "\n",
    "$$t_r=3\\tau=\\frac{3}{\\zeta\\omega_n}.$$\n",
    "\n",
    "### Resposta Criticamente Amortecida ($\\zeta$=1)\n",
    "\n",
    "Quando o fator de amortecimento é 1, os polos do sistema de segunda ordem são $s_{1,2}=-\\zeta\\omega_n$, 2 polor reais negativos e idênticos. A função de transferência é\n",
    "\n",
    "$$H(s)=\\frac{K\\omega_n^2}{(s+\\zeta\\omega_n)^2}$$\n",
    "\n",
    "A reposta ã uma entrada degrau com amplitude $E$ é obtida com auxílio de Lcapy. A reposta no domínio de Laplace é inicialmente definida. \n"
   ]
  },
  {
   "cell_type": "code",
   "execution_count": 19,
   "id": "25807920",
   "metadata": {
    "scrolled": false
   },
   "outputs": [
    {
     "data": {
      "text/latex": [
       "$$\\frac{E K \\omega_{n}^{2}}{s \\left(\\omega_{n} \\zeta + s\\right)^{2}}$$"
      ],
      "text/plain": [
       "         2   \n",
       "   E⋅K⋅ωₙ    \n",
       "─────────────\n",
       "            2\n",
       "s⋅(ωₙ⋅ζ + s) "
      ]
     },
     "execution_count": 19,
     "metadata": {},
     "output_type": "execute_result"
    }
   ],
   "source": [
    "Y=K*E*(omega_n)**2/(s*(s+zeta*omega_n)**2)\n",
    "Y"
   ]
  },
  {
   "cell_type": "markdown",
   "id": "26762c1d",
   "metadata": {},
   "source": [
    "Em seguida a transformada inversa de Laplace é obtida e simplificada:"
   ]
  },
  {
   "cell_type": "code",
   "execution_count": 20,
   "id": "741f346b",
   "metadata": {},
   "outputs": [
    {
     "data": {
      "text/latex": [
       "$$E K \\left(- \\omega_{n} t + e^{\\omega_{n} t} - 1\\right) e^{- \\omega_{n} t} u\\left(t\\right)$$"
      ],
      "text/plain": [
       "    ⎛         ωₙ⋅t    ⎞  -ωₙ⋅t     \n",
       "E⋅K⋅⎝-ωₙ⋅t + ℯ     - 1⎠⋅ℯ     ⋅u(t)"
      ]
     },
     "execution_count": 20,
     "metadata": {},
     "output_type": "execute_result"
    }
   ],
   "source": [
    "y=Y.ILT(causal=True)\n",
    "y=y.subs('zeta',1).simplify_terms()\n",
    "y"
   ]
  },
  {
   "cell_type": "markdown",
   "id": "f1ab78ba",
   "metadata": {},
   "source": [
    "Ou seja, \n",
    "\n",
    "$$y(t)=EK\\left(1-(1+\\omega_nt)e^{-\\omega_nt}\\right)u(t)$$\n",
    "\n",
    "A resposta criticamente amortecida  atinge o estado de estabilidade  no menor tempo possível sem ultrapassar o valor de\n",
    "estacionário,  ou seja, sem sobresinal.\n",
    "\n",
    "### Resposta Sobreamortecida ($\\zeta > 1$)\n",
    "\n",
    "Os polos para $\\zeta >1$ são $s_{1,2}=-\\zeta \\omega_n \\pm \\omega_n\\sqrt{\\zeta^2-1}$. São sois polos reais distintos e negativos. Para uma entrada degrau de amplitude $E$, a resposta no domínio do tempo é:\n"
   ]
  },
  {
   "cell_type": "code",
   "execution_count": 21,
   "id": "1026659f",
   "metadata": {},
   "outputs": [
    {
     "data": {
      "text/latex": [
       "$$\\frac{E K \\omega_{n}^{2}}{s \\left(s + s_{1}\\right) \\left(s + s_{2}\\right)}$$"
      ],
      "text/plain": [
       "            2      \n",
       "      E⋅K⋅ωₙ       \n",
       "───────────────────\n",
       "s⋅(s + s₁)⋅(s + s₂)"
      ]
     },
     "execution_count": 21,
     "metadata": {},
     "output_type": "execute_result"
    }
   ],
   "source": [
    "from lcapy import *\n",
    "K,zeta,omega_n,s_1,s_2,E=symbols('K zeta omega_n s_1 s_2 E')\n",
    "Y=K*E*(omega_n)**2/(s*(s+s_1)*(s+s_2))\n",
    "Y"
   ]
  },
  {
   "cell_type": "code",
   "execution_count": 22,
   "id": "356faf60",
   "metadata": {},
   "outputs": [
    {
     "data": {
      "text/latex": [
       "$$E K \\omega_{n}^{2} \\left(- \\frac{e^{- s_{2} t}}{s_{2} \\left(s_{1} - s_{2}\\right)} - \\frac{e^{- s_{1} t}}{s_{1} \\left(- s_{1} + s_{2}\\right)} + \\frac{1}{s_{1} s_{2}}\\right) u\\left(t\\right)$$"
      ],
      "text/plain": [
       "        ⎛      -s₂⋅t           -s₁⋅t           ⎞     \n",
       "      2 ⎜     ℯ               ℯ             1  ⎟     \n",
       "E⋅K⋅ωₙ ⋅⎜- ──────────── - ───────────── + ─────⎟⋅u(t)\n",
       "        ⎝  s₂⋅(s₁ - s₂)   s₁⋅(-s₁ + s₂)   s₁⋅s₂⎠     "
      ]
     },
     "execution_count": 22,
     "metadata": {},
     "output_type": "execute_result"
    }
   ],
   "source": [
    "y=Y.ILT(causal=True)\n",
    "y"
   ]
  },
  {
   "cell_type": "markdown",
   "id": "cdeec68f",
   "metadata": {},
   "source": [
    "A expressão acima é simplificada substituindo $s_1-s_2=2\\omega_n\\sqrt{\\zeta^2-1}$ e $s_1s_2=\\omega_n^2$.  Desta forma temos que\n",
    "\n",
    "$$y(t)=KE\\left[1+\\frac{\\omega_n}{2\\sqrt{\\zeta^2-1}}\\left(\\frac{e^{-s_1t}}{s_1}-\\frac{e^{-s_2t}}{s_2}\\right)\\right]u(t)$$\n",
    "\n",
    "Como será mostrado abaixo, a resposta sobreamortecida leva muito tempo para atingir  o estado estacionário em comparação a resposta criticamente amortecida.\n",
    "\n",
    "\n",
    "**Exemplo** \n",
    "Vamos estudar a resposta à entrada degrau unitário de um sistema onde $K=3$, $\\omega_n=1$, para alguns valores de $\\zeta$."
   ]
  },
  {
   "cell_type": "markdown",
   "id": "66fecac3",
   "metadata": {},
   "source": [
    "* $\\zeta < 1$"
   ]
  },
  {
   "cell_type": "code",
   "execution_count": 23,
   "id": "8ff8319b",
   "metadata": {},
   "outputs": [
    {
     "data": {
      "text/latex": [
       "$$\\frac{3}{\\left(s + \\frac{1}{8} - \\frac{3 \\sqrt{7} \\mathrm{j}}{8}\\right) \\left(s + \\frac{1}{8} + \\frac{3 \\sqrt{7} \\mathrm{j}}{8}\\right)}$$"
      ],
      "text/plain": [
       "                3                \n",
       "─────────────────────────────────\n",
       "⎛    1   3⋅√7⋅ⅉ⎞ ⎛    1   3⋅√7⋅ⅉ⎞\n",
       "⎜s + ─ - ──────⎟⋅⎜s + ─ + ──────⎟\n",
       "⎝    8     8   ⎠ ⎝    8     8   ⎠"
      ]
     },
     "execution_count": 23,
     "metadata": {},
     "output_type": "execute_result"
    }
   ],
   "source": [
    "from lcapy import *\n",
    "H=tf(3,[1,expr(1/4),1])\n",
    "H.ZPK()"
   ]
  },
  {
   "cell_type": "code",
   "execution_count": 24,
   "id": "f0ead3c3",
   "metadata": {},
   "outputs": [],
   "source": [
    "Y=H*(1/s)\n",
    "y1=Y.ILT(causal=True)"
   ]
  },
  {
   "cell_type": "markdown",
   "id": "b0af33b2",
   "metadata": {},
   "source": [
    "* $\\zeta =1$"
   ]
  },
  {
   "cell_type": "code",
   "execution_count": 25,
   "id": "10754d1b",
   "metadata": {},
   "outputs": [
    {
     "data": {
      "text/latex": [
       "$$\\frac{3}{\\left(s + 1\\right)^{2}}$$"
      ],
      "text/plain": [
       "   3    \n",
       "────────\n",
       "       2\n",
       "(s + 1) "
      ]
     },
     "execution_count": 25,
     "metadata": {},
     "output_type": "execute_result"
    }
   ],
   "source": [
    "H=tf(3,[1,2,1])\n",
    "H.ZPK()"
   ]
  },
  {
   "cell_type": "code",
   "execution_count": 26,
   "id": "58a6cd3e",
   "metadata": {},
   "outputs": [],
   "source": [
    "Y=H*(1/s)\n",
    "y2=Y.ILT(causal=True)"
   ]
  },
  {
   "cell_type": "markdown",
   "id": "36587b04",
   "metadata": {},
   "source": [
    "* $\\zeta>1$"
   ]
  },
  {
   "cell_type": "code",
   "execution_count": 27,
   "id": "ea177986",
   "metadata": {
    "scrolled": true
   },
   "outputs": [
    {
     "data": {
      "text/latex": [
       "$$\\frac{3}{2 \\left(s - \\frac{\\sqrt{17}}{4} + \\frac{5}{4}\\right) \\left(s + \\frac{\\sqrt{17}}{4} + \\frac{5}{4}\\right)}$$"
      ],
      "text/plain": [
       "              3              \n",
       "─────────────────────────────\n",
       "  ⎛    √17   5⎞ ⎛    √17   5⎞\n",
       "2⋅⎜s - ─── + ─⎟⋅⎜s + ─── + ─⎟\n",
       "  ⎝     4    4⎠ ⎝     4    4⎠"
      ]
     },
     "execution_count": 27,
     "metadata": {},
     "output_type": "execute_result"
    }
   ],
   "source": [
    "H=tf(3,[2,5,1])\n",
    "H.ZPK()"
   ]
  },
  {
   "cell_type": "code",
   "execution_count": 28,
   "id": "8fd86be2",
   "metadata": {},
   "outputs": [],
   "source": [
    "Y=H*(1/s)\n",
    "y3=Y.ILT(causal=True)"
   ]
  },
  {
   "cell_type": "code",
   "execution_count": 29,
   "id": "46835d9f",
   "metadata": {
    "scrolled": true
   },
   "outputs": [
    {
     "data": {
      "image/png": "[encoded data removed]",
      "text/plain": [
       "<Figure size 432x288 with 1 Axes>"
      ]
     },
     "metadata": {
      "needs_background": "light"
     },
     "output_type": "display_data"
    }
   ],
   "source": [
    "ax=y1.plot((-1,25),label='$\\zeta$<1');\n",
    "ax=y2.plot((-1,25),axes=ax,label='$\\zeta$=1')\n",
    "ax=y3.plot((-1,25),axes=ax,label='$\\zeta$ >1')\n",
    "ax.legend();"
   ]
  },
  {
   "cell_type": "markdown",
   "id": "dfb8d86a",
   "metadata": {},
   "source": [
    "### Analogia entre o Sistema Massa-Mola e o Circuito $RLC$ série\n",
    "\n",
    " Seja um circuito $RLC$ série como o descrito abaixo:"
   ]
  },
  {
   "cell_type": "code",
   "execution_count": 30,
   "id": "ce0de0c2",
   "metadata": {},
   "outputs": [
    {
     "data": {
      "image/png": "[encoded data removed]"
     },
     "metadata": {
      "image/png": {
       "height": 300,
       "width": 755
      }
     },
     "output_type": "display_data"
    }
   ],
   "source": [
    "from lcapy import *\n",
    "cct = Circuit(\"\"\"\n",
    "P1 1 0; down \n",
    "Vi 1 0 {V(s)}; down\n",
    "L 1 2; right\n",
    "R 2 3; right\n",
    "C 3 0_1; down\n",
    "W 0 0_1;right\n",
    "P2 3 0_1; down\"\"\")\n",
    "cct.draw()"
   ]
  },
  {
   "cell_type": "markdown",
   "id": "a41343bc",
   "metadata": {},
   "source": [
    "A função de transferência para este circuito pode ser obtida através da razão entre  a tensão sobre o capacitor de saída para a tensão entre os nós 1 e 0."
   ]
  },
  {
   "cell_type": "code",
   "execution_count": 31,
   "id": "68da7138",
   "metadata": {},
   "outputs": [
    {
     "data": {
      "text/latex": [
       "$$\\frac{\\frac{1}{C} \\frac{1}{L}}{s^{2} + \\frac{R s}{L} + \\frac{1}{C L}}$$"
      ],
      "text/plain": [
       "    ⎛ 1 ⎞     \n",
       "    ⎜───⎟     \n",
       "    ⎝C⋅L⎠     \n",
       "──────────────\n",
       " 2   R⋅s    1 \n",
       "s  + ─── + ───\n",
       "      L    C⋅L"
      ]
     },
     "execution_count": 31,
     "metadata": {},
     "output_type": "execute_result"
    }
   ],
   "source": [
    "H=cct[3].V(s)/cct[1].V(s)\n",
    "H.canonical()"
   ]
  },
  {
   "cell_type": "markdown",
   "id": "a679d3c8",
   "metadata": {},
   "source": [
    "Vamos comparar esta função de transferência (onde $K=1$) para aquela deduzida no sistema massa-mola.\n",
    "\n",
    "$$\\frac{K\\omega_n^2}{s^2+2\\zeta \\omega_ns+\\omega_n^2}=\\frac{\\frac{1}{LC}}{s^2+\\frac{R}{L}+\\frac{1}{LC}}$$\n",
    "\n",
    "Claramente vemos algumas equivalências\n",
    "\n",
    "\\begin{equation*}\n",
    "\\omega_n=\\sqrt{\\frac{k}{M}}=\\frac{1}{\\sqrt{LC}}\\rightarrow \\frac{k}{M}=\\frac{1}{LC}\n",
    "\\label{} \\tag{1}\n",
    "\\end{equation*}\n",
    "\n",
    "\n",
    "Por outro lado, \n",
    "\n",
    "\\begin{equation*}\n",
    "2\\zeta\\omega_n=2\\frac{\\gamma}{2M\\omega_n}\\omega_n=\\frac{\\gamma}{M}=\\frac{R}{L}\n",
    "\\label{} \\tag{2}\n",
    "\\end{equation*}\n",
    "\n",
    "Através das equivalências (1) e (2) vemos que a Massa de um sistema mecãnico corresponde a Indutância de um sistema elétrico série, o coeficiente de atrito corresponde a resistência elétrica e a constante da mola corresponde ao inverso da capacitância elétrica. \n",
    "\n"
   ]
  }
 ],
 "metadata": {
  "kernelspec": {
   "display_name": "Python 3 (ipykernel)",
   "language": "python",
   "name": "python3"
  },
  "language_info": {
   "codemirror_mode": {
    "name": "ipython",
    "version": 3
   },
   "file_extension": ".py",
   "mimetype": "text/x-python",
   "name": "python",
   "nbconvert_exporter": "python",
   "pygments_lexer": "ipython3",
   "version": "3.10.4"
  }
 },
 "nbformat": 4,
 "nbformat_minor": 5
}

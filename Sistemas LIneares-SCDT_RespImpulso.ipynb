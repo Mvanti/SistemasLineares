{
 "cells": [
  {
   "cell_type": "markdown",
   "id": "6d5af4c3",
   "metadata": {},
   "source": [
    "# Análise de Sistemas em Tempo Contínuo no Domínio do Tempo\n",
    "\n",
    "## Resposta ao Impulso"
   ]
  },
  {
   "cell_type": "markdown",
   "id": "4a921801",
   "metadata": {},
   "source": [
    "Quando estudarmos a resposta de estado nulo, veremos que a resposta para qualquer função de entrada pode ser determinada através da integral de convolução, se conhecermos a resposta do sistema à uma entrada impulsiva.\n",
    "\n",
    "Vamos substituir $x(t)=\\delta(t)$ em $Q(D)y(t)=P(D)x(t)$. Também definimos $h(t)$ como a resposta ao impulso. Ainda, vamos inicialmente considerar $N=M$. Então, temos\n",
    "\n",
    "\\begin{equation*}\n",
    "Q(D)h(t)=P(D)\\delta(t)\n",
    "\\label{} \\tag{1}\n",
    "\\end{equation*}\n",
    "\n",
    "ou\n",
    "\n",
    "\\begin{equation*}\n",
    "(D^N+a_1D^{N-1}+ ...+ a_N)h(t)=(b_0D^N+b_1D^{N-1}+...+b_N)\\delta(t)\n",
    "\\label{} \\tag{2}\n",
    "\\end{equation*}\n",
    "\n",
    "No momento em que ocorre a entrada impulsiva ocorrerá o armazenamento súbito de energia no sistema, e imediatamente após (denotaremos este tempo por $0^+$), este impulso se extingue, e o sistema responde como na resposta de entrada nula, mas com condições iniciais alteradas pelo impulso. Portanto, a resposta $h(t)$ contém termos relativos a resposta impulsiva e termos baseados nos modos característicos, quando a entrada impulsiva não está mais presente. \n",
    "\n",
    "\\begin{equation*}\n",
    " h(t)=A\\delta(t) + \\sum_{}^{} c_i e^{\\lambda_i t}.\n",
    "\\label{} \\tag{3}\n",
    "\\end{equation*}\n",
    "\n",
    "Substituindo (3) em (2), as derivadas dos termos impulsivos nos dois lados da equação devem coincidir. Então\n",
    "\n",
    "$$D^NA\\delta(t)=D^Nb_0\\delta(t) \\rightarrow A=b_0.$$\n",
    "\n",
    "Por outro lado, se $M<N$, $A=b_0=0$ e $h(t)$ conterá apenas os modos característicos do sistema. Como vimos, a determinação da resposta baseada nos modos característicos é obtida através das novas condições iniciais impostas pela entrada impulsiva. \n",
    "\n",
    "Sejam os dois sistemas $S$ e $S_0$ definidos abaixo:\n",
    "\n",
    "$$\\quad S:Q(D)y(t)=P(D)x(t)$$\n",
    "\n",
    "e\n",
    "\n",
    "$$ S_0:Q(D)w(t)=x(t).$$\n",
    "\n",
    "Claramente, $S$ e $S_0$ possuem os mesmos modos característicos, por possuirem o mesmo polinômio característico. No sistema $S_0$, usamos $x(t)=\\delta(t)$ e  $w(t)=y_n(t)$. Para $t>0$ teremos \n",
    "\n",
    "\\begin{equation*}\n",
    "Q(D)y_n(t)=0,\n",
    "\\label{} \\tag{4}\n",
    "\\end{equation*}\n",
    "\n",
    "ou seja, um típico problema de entrada nula. E quais são as condições iniciais? A resposta é $y^{N-1}(0^+)=1,\\; y^{N-2}(0^+)=y^{N-3}(0^+)=...=y(0^+)=0$. Se tivéssemos por exemplo, $y^{N-2}(0^+)=1$. então teríamos também que ter $y^{N-1}(0^+)=\\delta(t)$, pois a derivada do degrau é um impulso e daí ficaríamos com $y^{N}(0^+)=\\delta(t)'$,a derivada do impulso,  termo inexistente na entrada. Mais concretamente, considere a seguinte equação diferencial, descrevendo um sistema inicialmente em estado de equilíbrio, ou seja, relaxado: \n",
    "\n",
    "$$ (D^2+3D+2)y_n(t)=\\delta(t).$$\n",
    "\n",
    "Inicialmente $y_n(t)$ e todas suas derivadas são nulas, porque o sistema é relaxado. Em $t=0$, o impulso muda o estado de $y_n'(0)$ para 1, portanto, $y_n(t)'$ é descrito pela função degrau unitário, 0 para $t<0$ e 1 para $t>1$. Além disso, a derivada  do degrau unitário é o impulso $(D^2y_n(t)=Dy_n(t)=\\delta(t))$, o que está de acordo com a equação diferencial original.\n",
    "\n",
    "\n",
    "Portanto, com a equação (4) e as condições iniciais acima descritas, encontramos os modos característicos para o sistema $S_0$ onde $x(t)=\\delta(t)$ e $w(t)=y_n(t)$. Ainda, em $S_0$, podemos multiplicar $w(t)$ e $x(t)$ pelo polinômio $P(D)$, de forma a ter\n",
    "\n",
    "$$Q(D)P(D)w(t)=P(D)x(t)$$\n",
    "\n",
    "e comparando com $S$, é necessário que $y(t)=P(D)w(t)$. Da mesma forma, se em $S$ e $S_0$ $x(t)=\\delta(t),\\;w(t)=y_n(t)\\;e\\;y(t)=h(t)$,\n",
    "\n",
    "$$ h(t)=P(D)y_n(t)$$\n",
    "\n",
    "Essa é a parcela da resposta ao impulso contendo os modos característicos. A resposta ao impulso total é\n",
    "\n",
    "$$ h(t)=b_0\\delta(t)+P(D)y_n(t).$$\n",
    "\n",
    "\n",
    "\n",
    "\n",
    "\n"
   ]
  },
  {
   "cell_type": "markdown",
   "id": "f929a660",
   "metadata": {},
   "source": [
    "**Exemplo** Seja o sistema $(D^2+3D+2)y(t)=(3D^2+1)x(t)$, e uma entrada impulsiva $x(t)=\\delta(t)$. Determine a resposta.\n",
    "\n",
    "Inicialmente, podemos verificar que $M=N=2$ e $A=3$. Portanto \n",
    "\n",
    "$$h(t)=3\\delta(t) +\\sum_{}^{} c_ie^{\\lambda_i(t)}.$$\n",
    "\n",
    "precisamos agora determinar os modos característicos de $h(t)$. Para isso resolveremos o seguinte problema:\n",
    "\n",
    "$$(D^2+3D+2)y_n(t)=0$$\n",
    "\n",
    "com as condições iniciais $y_n(0^+)=0,\\;y_n(0^+)'=1$.\n",
    "As raízes da equação característica são $\\lambda_1=-1\\;\\mbox{e}\\;\\lambda_2=-2$. Então\n",
    "\n",
    "$$y_n(t)=c_1e^{-t}+c_2e^{-2t}.$$\n",
    "\n",
    "Inserindo as condições iniciais encontramos $c_1=1\\;\\mbox{e}\\;c_2=-1$. Assim, a resposta ao impulso é\n",
    "\n",
    "$$h(t)=3\\delta(t)+(4e^{-t}-13e^{-2t})u(t).$$\n",
    "\n",
    "Com o pequeno *script* abaixo podemos fazer o gráfico da resposta baseada nos modos característicos para $t>0^+$."
   ]
  },
  {
   "cell_type": "code",
   "execution_count": 5,
   "id": "2e6efe70",
   "metadata": {},
   "outputs": [
    {
     "data": {
      "image/png": "[encoded data removed]",
      "text/plain": [
       "<Figure size 432x288 with 1 Axes>"
      ]
     },
     "metadata": {
      "needs_background": "light"
     },
     "output_type": "display_data"
    }
   ],
   "source": [
    "import numpy as np\n",
    "import matplotlib.pyplot as plt\n",
    "\n",
    "t=np.linspace(0,4,100)\n",
    "h= (4*np.exp(-t)-13*np.exp(-2*t))\n",
    "\n",
    "plt.plot(t,h)\n",
    "plt.ylim([-10,1]);\n"
   ]
  }
 ],
 "metadata": {
  "kernelspec": {
   "display_name": "Python 3 (ipykernel)",
   "language": "python",
   "name": "python3"
  },
  "language_info": {
   "codemirror_mode": {
    "name": "ipython",
    "version": 3
   },
   "file_extension": ".py",
   "mimetype": "text/x-python",
   "name": "python",
   "nbconvert_exporter": "python",
   "pygments_lexer": "ipython3",
   "version": "3.10.4"
  }
 },
 "nbformat": 4,
 "nbformat_minor": 5
}
